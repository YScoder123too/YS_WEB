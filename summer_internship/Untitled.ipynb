{
 "cells": [
  {
   "cell_type": "code",
   "execution_count": null,
   "id": "8eea32bf-070e-40d2-ba79-e76a67afb7ba",
   "metadata": {},
   "outputs": [],
   "source": [
    "c=float(input(\"Enter the temperature in celcius\"))\n",
    "f= (9/5)*c+32\n",
    "print(f'Temperature in farehite is:{f}')"
   ]
  },
  {
   "cell_type": "code",
   "execution_count": 2,
   "id": "7f31523e-c094-4fe2-adc0-7f602abb6c08",
   "metadata": {},
   "outputs": [
    {
     "name": "stdin",
     "output_type": "stream",
     "text": [
      "Enter the number 5\n"
     ]
    },
    {
     "ename": "TypeError",
     "evalue": "'int' object is not iterable",
     "output_type": "error",
     "traceback": [
      "\u001b[1;31m---------------------------------------------------------------------------\u001b[0m",
      "\u001b[1;31mTypeError\u001b[0m                                 Traceback (most recent call last)",
      "Cell \u001b[1;32mIn[2], line 3\u001b[0m\n\u001b[0;32m      1\u001b[0m \u001b[38;5;66;03m#Calculate the Power of a given Number\u001b[39;00m\n\u001b[0;32m      2\u001b[0m a\u001b[38;5;241m=\u001b[39m\u001b[38;5;28mint\u001b[39m(\u001b[38;5;28minput\u001b[39m(\u001b[38;5;124m\"\u001b[39m\u001b[38;5;124mEnter the number\u001b[39m\u001b[38;5;124m\"\u001b[39m))\n\u001b[1;32m----> 3\u001b[0m \u001b[38;5;28;01mfor\u001b[39;00m i \u001b[38;5;129;01min\u001b[39;00m a:\n\u001b[0;32m      4\u001b[0m       digits\u001b[38;5;241m=\u001b[39ma\u001b[38;5;241m%\u001b[39mi\n",
      "\u001b[1;31mTypeError\u001b[0m: 'int' object is not iterable"
     ]
    }
   ],
   "source": [
    "#Calculate the Power of a given Number\n",
    "a=int(input(\"Enter the number\"))\n",
    "for i in a:\n",
    "      digits=a%i"
   ]
  },
  {
   "cell_type": "code",
   "execution_count": null,
   "id": "d9097bda-f951-4c0f-8025-db6f88715141",
   "metadata": {},
   "outputs": [],
   "source": [
    "#Write a program to Merge Two Sorted Lists\n",
    "l1=[1,2,3,4,5]\n",
    "l2=[6,7,8,9,10]\n",
    "l3=l1+l2\n",
    "print(l3)"
   ]
  },
  {
   "cell_type": "code",
   "execution_count": null,
   "id": "cc482145-3ae5-47f9-8210-79ec3a64dc16",
   "metadata": {},
   "outputs": [],
   "source": [
    "start = int(input(\"Enter the starting number: \"))\n",
    "end = int(input(\"Enter the ending number: \"))\n",
    "\n",
    "p = []\n",
    "for num in range(start, end + 1):\n",
    "    if num > 1:\n",
    "        for i in range(2, num):\n",
    "            if (num % i) == 0:\n",
    "                break\n",
    "        else:\n",
    "            p.append(num)\n",
    "\n",
    "print(\"Prime numbers within the range:\", p)"
   ]
  },
  {
   "cell_type": "code",
   "execution_count": null,
   "id": "07418420-754b-4c91-a418-e6a0845c0d0d",
   "metadata": {},
   "outputs": [],
   "source": [
    "n = int(input(\"Enter a number: \"))\n",
    "\n",
    "sum_of_numbers = 0\n",
    "for i in range(1, n+1):\n",
    "    sum_of_numbers += i\n",
    "\n",
    "print(\"Sum of natural numbers up to\", n, \"is:\", sum_of_numbers)        "
   ]
  },
  {
   "cell_type": "code",
   "execution_count": null,
   "id": "a3d20f41-92dd-4b04-9c0c-b46ed7fb0c6a",
   "metadata": {},
   "outputs": [],
   "source": [
    "numbers = []\n",
    "\n",
    "for _ in range(10):\n",
    "    number = int(input(\"Enter a number: \"))\n",
    "    numbers.append(number)\n",
    "\n",
    "largest = max(numbers)\n",
    "smallest = min(numbers)\n",
    "\n",
    "print(\"Largest number:\", largest)\n",
    "print(\"Smallest number:\", smallest)"
   ]
  }
 ],
 "metadata": {
  "kernelspec": {
   "display_name": "Python 3 (ipykernel)",
   "language": "python",
   "name": "python3"
  },
  "language_info": {
   "codemirror_mode": {
    "name": "ipython",
    "version": 3
   },
   "file_extension": ".py",
   "mimetype": "text/x-python",
   "name": "python",
   "nbconvert_exporter": "python",
   "pygments_lexer": "ipython3",
   "version": "3.11.5"
  }
 },
 "nbformat": 4,
 "nbformat_minor": 5
}
