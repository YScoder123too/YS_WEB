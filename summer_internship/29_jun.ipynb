{
 "cells": [
  {
   "cell_type": "markdown",
   "id": "0d73ea0a-76cc-48c6-ad1c-e37042ac52e1",
   "metadata": {},
   "source": [
    "# ASSIGNMENT"
   ]
  },
  {
   "cell_type": "code",
   "execution_count": 1,
   "id": "8eea32bf-070e-40d2-ba79-e76a67afb7ba",
   "metadata": {},
   "outputs": [
    {
     "name": "stdin",
     "output_type": "stream",
     "text": [
      "Enter the temperature in celcius 15\n"
     ]
    },
    {
     "name": "stdout",
     "output_type": "stream",
     "text": [
      "Temperature in farehite is:59.0\n"
     ]
    }
   ],
   "source": [
    "#Write a program to take input temperature in Celsius and convert in Fahrenheit\n",
    "c=float(input(\"Enter the temperature in celcius\"))\n",
    "f= (9/5)*c+32\n",
    "print(f'Temperature in farehite is:{f}')"
   ]
  },
  {
   "cell_type": "code",
   "execution_count": 2,
   "id": "7f31523e-c094-4fe2-adc0-7f602abb6c08",
   "metadata": {},
   "outputs": [
    {
     "name": "stdin",
     "output_type": "stream",
     "text": [
      "Enter the base number:  5\n",
      "Enter the exponent:  5\n"
     ]
    },
    {
     "name": "stdout",
     "output_type": "stream",
     "text": [
      "Result: 3125.0\n"
     ]
    }
   ],
   "source": [
    "#Calculate the Power of a given Number\n",
    "base = float(input(\"Enter the base number: \"))\n",
    "exponent = float(input(\"Enter the exponent: \"))\n",
    "power = base ** exponent\n",
    "print(\"Result:\", power)"
   ]
  },
  {
   "cell_type": "code",
   "execution_count": 39,
   "id": "d9097bda-f951-4c0f-8025-db6f88715141",
   "metadata": {},
   "outputs": [
    {
     "name": "stdout",
     "output_type": "stream",
     "text": [
      "[1, 2, 3, 4, 5, 6, 7, 8, 9, 10]\n"
     ]
    }
   ],
   "source": [
    "#Write a program to Merge Two Sorted Lists\n",
    "l1=[5,4,2,1,3]\n",
    "l2=[6,7,8,9,10]\n",
    "l1.sort()\n",
    "l2.sort()\n",
    "l3=l1+l2\n",
    "print(l3)"
   ]
  },
  {
   "cell_type": "code",
   "execution_count": 14,
   "id": "cc482145-3ae5-47f9-8210-79ec3a64dc16",
   "metadata": {},
   "outputs": [
    {
     "name": "stdin",
     "output_type": "stream",
     "text": [
      "Enter the starting number:  4\n",
      "Enter the ending number:  44\n"
     ]
    },
    {
     "name": "stdout",
     "output_type": "stream",
     "text": [
      "Prime numbers within the range: [5, 7, 11, 13, 17, 19, 23, 29, 31, 37, 41, 43]\n"
     ]
    }
   ],
   "source": [
    "#Generate a List of Prime Numbers within a Range:\n",
    "start = int(input(\"Enter the starting number: \"))\n",
    "end = int(input(\"Enter the ending number: \"))\n",
    "\n",
    "p = []\n",
    "for num in range(start, end + 1):\n",
    "    if num > 1:\n",
    "        for i in range(2, num):\n",
    "            if (num % i) == 0:\n",
    "                break\n",
    "        else:\n",
    "            p.append(num)\n",
    "\n",
    "print(\"Prime numbers within the range:\", p)"
   ]
  },
  {
   "cell_type": "code",
   "execution_count": 5,
   "id": "07418420-754b-4c91-a418-e6a0845c0d0d",
   "metadata": {},
   "outputs": [
    {
     "name": "stdin",
     "output_type": "stream",
     "text": [
      "Enter a number:  10\n"
     ]
    },
    {
     "name": "stdout",
     "output_type": "stream",
     "text": [
      "Sum of natural numbers up to 10 is: 55\n"
     ]
    }
   ],
   "source": [
    "#Print the Sum of Natural Numbers up to a GivenNumber\n",
    "n = int(input(\"Enter a number: \"))\n",
    "\n",
    "sum_of_numbers = 0\n",
    "for i in range(1, n+1):\n",
    "    sum_of_numbers += i\n",
    "\n",
    "print(\"Sum of natural numbers up to\", n, \"is:\", sum_of_numbers)\n",
    "        "
   ]
  },
  {
   "cell_type": "code",
   "execution_count": 22,
   "id": "69ec8776-0a0d-4210-a6a3-ed31501aa798",
   "metadata": {},
   "outputs": [
    {
     "name": "stdin",
     "output_type": "stream",
     "text": [
      "Enter a number:  1\n",
      "Enter a number:  2\n",
      "Enter a number:  3\n",
      "Enter a number:  4\n",
      "Enter a number:  5\n"
     ]
    },
    {
     "name": "stdout",
     "output_type": "stream",
     "text": [
      "Largest number: 5\n",
      "Smallest number: 1\n"
     ]
    }
   ],
   "source": [
    "numbers = []\n",
    "for i in range(5):\n",
    "    number = int(input(\"Enter a number: \"))\n",
    "    numbers.append(number)\n",
    "\n",
    "largest = max(numbers)\n",
    "smallest = min(numbers)\n",
    "\n",
    "print(\"Largest number:\", largest)\n",
    "print(\"Smallest number:\", smallest)"
   ]
  },
  {
   "cell_type": "code",
   "execution_count": null,
   "id": "ca22738a-47de-49e0-93c4-deedaefa96f6",
   "metadata": {},
   "outputs": [],
   "source": [
    "#Header file import karne ke liye\n",
    "#import calc\n",
    "#import calc as c\n",
    "#from calc import *"
   ]
  }
 ],
 "metadata": {
  "kernelspec": {
   "display_name": "Python 3 (ipykernel)",
   "language": "python",
   "name": "python3"
  },
  "language_info": {
   "codemirror_mode": {
    "name": "ipython",
    "version": 3
   },
   "file_extension": ".py",
   "mimetype": "text/x-python",
   "name": "python",
   "nbconvert_exporter": "python",
   "pygments_lexer": "ipython3",
   "version": "3.11.5"
  }
 },
 "nbformat": 4,
 "nbformat_minor": 5
}
