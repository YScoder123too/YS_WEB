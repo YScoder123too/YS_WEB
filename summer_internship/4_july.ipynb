{
 "cells": [
  {
   "cell_type": "markdown",
   "id": "34ba7113-0f2e-41f4-8eb5-d9719919ef8e",
   "metadata": {},
   "source": [
    "# Merging DataFrame"
   ]
  },
  {
   "cell_type": "code",
   "execution_count": 14,
   "id": "846a88a5-a917-4cc9-a079-53004cf26a13",
   "metadata": {},
   "outputs": [
    {
     "data": {
      "text/plain": [
       "'inner,outer,left,right,cross\\ndefault inner hota hai,means two dataframe mai common values hoti hai to merging ho sakti\\ndf1.merge(df2,how=\"inner\",on=\"empid\")#means empid ke basis pe merging ho rahi hai#intersection ki tarah hai inner,outer union ki tarah hai\\nleft:left ke sare and common between left and right aa jaega'"
      ]
     },
     "execution_count": 14,
     "metadata": {},
     "output_type": "execute_result"
    }
   ],
   "source": [
    "'''inner,outer,left,right,cross\n",
    "default inner hota hai,means two dataframe mai common values hoti hai to merging ho sakti\n",
    "df1.merge(df2,how=\"inner\",on=\"empid\")#means empid ke basis pe merging ho rahi hai#intersection ki tarah hai inner,outer union ki tarah hai\n",
    "left:left ke sare and common between left and right aa jaega'''\n"
   ]
  },
  {
   "cell_type": "code",
   "execution_count": 15,
   "id": "569738a8-9aa9-448d-a872-6b40302fd98a",
   "metadata": {},
   "outputs": [],
   "source": [
    "import numpy as np\n",
    "import pandas as pd"
   ]
  },
  {
   "cell_type": "code",
   "execution_count": 16,
   "id": "4a125e02-c1d5-428d-9c23-f8d70c928241",
   "metadata": {},
   "outputs": [
    {
     "data": {
      "text/plain": [
       "{'emp_id': [1001, 1002, 1003, 1004],\n",
       " 'sal': [20000, 30000, 40000, 50000],\n",
       " 'name': ['amit', 'abhay', 'sorabh', 'mayank'],\n",
       " 'age': [32, 34, 31, 35]}"
      ]
     },
     "execution_count": 16,
     "metadata": {},
     "output_type": "execute_result"
    }
   ],
   "source": [
    "dict1={\n",
    "    'emp_id':[1001,1002,1003,1004,],\n",
    "    'sal':[20000,30000,40000,50000],\n",
    "    'name':['amit','abhay','sorabh','mayank'],\n",
    "    'age':[32,34,31,35]\n",
    "}\n",
    "dict1"
   ]
  },
  {
   "cell_type": "code",
   "execution_count": 17,
   "id": "b674d60a-53a2-4bfb-b49b-dc29b85a4d7d",
   "metadata": {},
   "outputs": [
    {
     "data": {
      "text/html": [
       "<div>\n",
       "<style scoped>\n",
       "    .dataframe tbody tr th:only-of-type {\n",
       "        vertical-align: middle;\n",
       "    }\n",
       "\n",
       "    .dataframe tbody tr th {\n",
       "        vertical-align: top;\n",
       "    }\n",
       "\n",
       "    .dataframe thead th {\n",
       "        text-align: right;\n",
       "    }\n",
       "</style>\n",
       "<table border=\"1\" class=\"dataframe\">\n",
       "  <thead>\n",
       "    <tr style=\"text-align: right;\">\n",
       "      <th></th>\n",
       "      <th>emp_id</th>\n",
       "      <th>sal</th>\n",
       "      <th>name</th>\n",
       "      <th>age</th>\n",
       "    </tr>\n",
       "  </thead>\n",
       "  <tbody>\n",
       "    <tr>\n",
       "      <th>0</th>\n",
       "      <td>1001</td>\n",
       "      <td>20000</td>\n",
       "      <td>amit</td>\n",
       "      <td>32</td>\n",
       "    </tr>\n",
       "    <tr>\n",
       "      <th>1</th>\n",
       "      <td>1002</td>\n",
       "      <td>30000</td>\n",
       "      <td>abhay</td>\n",
       "      <td>34</td>\n",
       "    </tr>\n",
       "    <tr>\n",
       "      <th>2</th>\n",
       "      <td>1003</td>\n",
       "      <td>40000</td>\n",
       "      <td>sorabh</td>\n",
       "      <td>31</td>\n",
       "    </tr>\n",
       "    <tr>\n",
       "      <th>3</th>\n",
       "      <td>1004</td>\n",
       "      <td>50000</td>\n",
       "      <td>mayank</td>\n",
       "      <td>35</td>\n",
       "    </tr>\n",
       "  </tbody>\n",
       "</table>\n",
       "</div>"
      ],
      "text/plain": [
       "   emp_id    sal    name  age\n",
       "0    1001  20000    amit   32\n",
       "1    1002  30000   abhay   34\n",
       "2    1003  40000  sorabh   31\n",
       "3    1004  50000  mayank   35"
      ]
     },
     "execution_count": 17,
     "metadata": {},
     "output_type": "execute_result"
    }
   ],
   "source": [
    "df1=pd.DataFrame(dict1)\n",
    "df1"
   ]
  },
  {
   "cell_type": "code",
   "execution_count": 18,
   "id": "17795451-86ed-4cc7-a8d4-230e2b9a7cfe",
   "metadata": {},
   "outputs": [
    {
     "data": {
      "text/plain": [
       "{'emp_id': [1001, 1002, 1005, 1006],\n",
       " 'sal': [20000, 30000, 40000, 50000],\n",
       " 'address': ['panipat', 'mohali', 'lucknow', 'noida']}"
      ]
     },
     "execution_count": 18,
     "metadata": {},
     "output_type": "execute_result"
    }
   ],
   "source": [
    "dict2={\n",
    "    'emp_id':[1001,1002,1005,1006],\n",
    "    'sal':[20000,30000,40000,50000],\n",
    "    'address':['panipat','mohali','lucknow','noida']\n",
    "}\n",
    "dict2"
   ]
  },
  {
   "cell_type": "code",
   "execution_count": 19,
   "id": "83bd25c8-c549-4a4c-b75f-1a9430627a4d",
   "metadata": {},
   "outputs": [
    {
     "data": {
      "text/html": [
       "<div>\n",
       "<style scoped>\n",
       "    .dataframe tbody tr th:only-of-type {\n",
       "        vertical-align: middle;\n",
       "    }\n",
       "\n",
       "    .dataframe tbody tr th {\n",
       "        vertical-align: top;\n",
       "    }\n",
       "\n",
       "    .dataframe thead th {\n",
       "        text-align: right;\n",
       "    }\n",
       "</style>\n",
       "<table border=\"1\" class=\"dataframe\">\n",
       "  <thead>\n",
       "    <tr style=\"text-align: right;\">\n",
       "      <th></th>\n",
       "      <th>emp_id</th>\n",
       "      <th>sal</th>\n",
       "      <th>address</th>\n",
       "    </tr>\n",
       "  </thead>\n",
       "  <tbody>\n",
       "    <tr>\n",
       "      <th>0</th>\n",
       "      <td>1001</td>\n",
       "      <td>20000</td>\n",
       "      <td>panipat</td>\n",
       "    </tr>\n",
       "    <tr>\n",
       "      <th>1</th>\n",
       "      <td>1002</td>\n",
       "      <td>30000</td>\n",
       "      <td>mohali</td>\n",
       "    </tr>\n",
       "    <tr>\n",
       "      <th>2</th>\n",
       "      <td>1005</td>\n",
       "      <td>40000</td>\n",
       "      <td>lucknow</td>\n",
       "    </tr>\n",
       "    <tr>\n",
       "      <th>3</th>\n",
       "      <td>1006</td>\n",
       "      <td>50000</td>\n",
       "      <td>noida</td>\n",
       "    </tr>\n",
       "  </tbody>\n",
       "</table>\n",
       "</div>"
      ],
      "text/plain": [
       "   emp_id    sal  address\n",
       "0    1001  20000  panipat\n",
       "1    1002  30000   mohali\n",
       "2    1005  40000  lucknow\n",
       "3    1006  50000    noida"
      ]
     },
     "execution_count": 19,
     "metadata": {},
     "output_type": "execute_result"
    }
   ],
   "source": [
    "df2=pd.DataFrame(dict2)\n",
    "df2"
   ]
  },
  {
   "cell_type": "code",
   "execution_count": 20,
   "id": "ce965a73-5864-4e4c-95e1-0170e4de683a",
   "metadata": {},
   "outputs": [
    {
     "data": {
      "text/html": [
       "<div>\n",
       "<style scoped>\n",
       "    .dataframe tbody tr th:only-of-type {\n",
       "        vertical-align: middle;\n",
       "    }\n",
       "\n",
       "    .dataframe tbody tr th {\n",
       "        vertical-align: top;\n",
       "    }\n",
       "\n",
       "    .dataframe thead th {\n",
       "        text-align: right;\n",
       "    }\n",
       "</style>\n",
       "<table border=\"1\" class=\"dataframe\">\n",
       "  <thead>\n",
       "    <tr style=\"text-align: right;\">\n",
       "      <th></th>\n",
       "      <th>emp_id</th>\n",
       "      <th>sal_x</th>\n",
       "      <th>name</th>\n",
       "      <th>age</th>\n",
       "      <th>sal_y</th>\n",
       "      <th>address</th>\n",
       "    </tr>\n",
       "  </thead>\n",
       "  <tbody>\n",
       "    <tr>\n",
       "      <th>0</th>\n",
       "      <td>1001</td>\n",
       "      <td>20000</td>\n",
       "      <td>amit</td>\n",
       "      <td>32</td>\n",
       "      <td>20000</td>\n",
       "      <td>panipat</td>\n",
       "    </tr>\n",
       "    <tr>\n",
       "      <th>1</th>\n",
       "      <td>1002</td>\n",
       "      <td>30000</td>\n",
       "      <td>abhay</td>\n",
       "      <td>34</td>\n",
       "      <td>30000</td>\n",
       "      <td>mohali</td>\n",
       "    </tr>\n",
       "  </tbody>\n",
       "</table>\n",
       "</div>"
      ],
      "text/plain": [
       "   emp_id  sal_x   name  age  sal_y  address\n",
       "0    1001  20000   amit   32  20000  panipat\n",
       "1    1002  30000  abhay   34  30000   mohali"
      ]
     },
     "execution_count": 20,
     "metadata": {},
     "output_type": "execute_result"
    }
   ],
   "source": [
    "df1.merge(df2,how=\"inner\",on=\"emp_id\")#pd.merge(df1,df2) bhi likh sakte hai,intersection"
   ]
  },
  {
   "cell_type": "code",
   "execution_count": 21,
   "id": "c241abd1-cb53-40ed-95d1-4475d562963f",
   "metadata": {},
   "outputs": [
    {
     "data": {
      "text/html": [
       "<div>\n",
       "<style scoped>\n",
       "    .dataframe tbody tr th:only-of-type {\n",
       "        vertical-align: middle;\n",
       "    }\n",
       "\n",
       "    .dataframe tbody tr th {\n",
       "        vertical-align: top;\n",
       "    }\n",
       "\n",
       "    .dataframe thead th {\n",
       "        text-align: right;\n",
       "    }\n",
       "</style>\n",
       "<table border=\"1\" class=\"dataframe\">\n",
       "  <thead>\n",
       "    <tr style=\"text-align: right;\">\n",
       "      <th></th>\n",
       "      <th>emp_id</th>\n",
       "      <th>sal_x</th>\n",
       "      <th>name</th>\n",
       "      <th>age</th>\n",
       "      <th>sal_y</th>\n",
       "      <th>address</th>\n",
       "    </tr>\n",
       "  </thead>\n",
       "  <tbody>\n",
       "    <tr>\n",
       "      <th>0</th>\n",
       "      <td>1001</td>\n",
       "      <td>20000.0</td>\n",
       "      <td>amit</td>\n",
       "      <td>32.0</td>\n",
       "      <td>20000.0</td>\n",
       "      <td>panipat</td>\n",
       "    </tr>\n",
       "    <tr>\n",
       "      <th>1</th>\n",
       "      <td>1002</td>\n",
       "      <td>30000.0</td>\n",
       "      <td>abhay</td>\n",
       "      <td>34.0</td>\n",
       "      <td>30000.0</td>\n",
       "      <td>mohali</td>\n",
       "    </tr>\n",
       "    <tr>\n",
       "      <th>2</th>\n",
       "      <td>1003</td>\n",
       "      <td>40000.0</td>\n",
       "      <td>sorabh</td>\n",
       "      <td>31.0</td>\n",
       "      <td>NaN</td>\n",
       "      <td>NaN</td>\n",
       "    </tr>\n",
       "    <tr>\n",
       "      <th>3</th>\n",
       "      <td>1004</td>\n",
       "      <td>50000.0</td>\n",
       "      <td>mayank</td>\n",
       "      <td>35.0</td>\n",
       "      <td>NaN</td>\n",
       "      <td>NaN</td>\n",
       "    </tr>\n",
       "    <tr>\n",
       "      <th>4</th>\n",
       "      <td>1005</td>\n",
       "      <td>NaN</td>\n",
       "      <td>NaN</td>\n",
       "      <td>NaN</td>\n",
       "      <td>40000.0</td>\n",
       "      <td>lucknow</td>\n",
       "    </tr>\n",
       "    <tr>\n",
       "      <th>5</th>\n",
       "      <td>1006</td>\n",
       "      <td>NaN</td>\n",
       "      <td>NaN</td>\n",
       "      <td>NaN</td>\n",
       "      <td>50000.0</td>\n",
       "      <td>noida</td>\n",
       "    </tr>\n",
       "  </tbody>\n",
       "</table>\n",
       "</div>"
      ],
      "text/plain": [
       "   emp_id    sal_x    name   age    sal_y  address\n",
       "0    1001  20000.0    amit  32.0  20000.0  panipat\n",
       "1    1002  30000.0   abhay  34.0  30000.0   mohali\n",
       "2    1003  40000.0  sorabh  31.0      NaN      NaN\n",
       "3    1004  50000.0  mayank  35.0      NaN      NaN\n",
       "4    1005      NaN     NaN   NaN  40000.0  lucknow\n",
       "5    1006      NaN     NaN   NaN  50000.0    noida"
      ]
     },
     "execution_count": 21,
     "metadata": {},
     "output_type": "execute_result"
    }
   ],
   "source": [
    "df1.merge(df2,how=\"outer\",on=\"emp_id\")#pd.merge(df1,df2,how='outer',on='emp_id') ,union"
   ]
  },
  {
   "cell_type": "code",
   "execution_count": 22,
   "id": "e5d3e5bb-8122-4b1e-ac97-7ae5f01315ed",
   "metadata": {},
   "outputs": [
    {
     "data": {
      "text/html": [
       "<div>\n",
       "<style scoped>\n",
       "    .dataframe tbody tr th:only-of-type {\n",
       "        vertical-align: middle;\n",
       "    }\n",
       "\n",
       "    .dataframe tbody tr th {\n",
       "        vertical-align: top;\n",
       "    }\n",
       "\n",
       "    .dataframe thead th {\n",
       "        text-align: right;\n",
       "    }\n",
       "</style>\n",
       "<table border=\"1\" class=\"dataframe\">\n",
       "  <thead>\n",
       "    <tr style=\"text-align: right;\">\n",
       "      <th></th>\n",
       "      <th>emp_id</th>\n",
       "      <th>sal_x</th>\n",
       "      <th>name</th>\n",
       "      <th>age</th>\n",
       "      <th>sal_y</th>\n",
       "      <th>address</th>\n",
       "    </tr>\n",
       "  </thead>\n",
       "  <tbody>\n",
       "    <tr>\n",
       "      <th>0</th>\n",
       "      <td>1001</td>\n",
       "      <td>20000</td>\n",
       "      <td>amit</td>\n",
       "      <td>32</td>\n",
       "      <td>20000.0</td>\n",
       "      <td>panipat</td>\n",
       "    </tr>\n",
       "    <tr>\n",
       "      <th>1</th>\n",
       "      <td>1002</td>\n",
       "      <td>30000</td>\n",
       "      <td>abhay</td>\n",
       "      <td>34</td>\n",
       "      <td>30000.0</td>\n",
       "      <td>mohali</td>\n",
       "    </tr>\n",
       "    <tr>\n",
       "      <th>2</th>\n",
       "      <td>1003</td>\n",
       "      <td>40000</td>\n",
       "      <td>sorabh</td>\n",
       "      <td>31</td>\n",
       "      <td>NaN</td>\n",
       "      <td>NaN</td>\n",
       "    </tr>\n",
       "    <tr>\n",
       "      <th>3</th>\n",
       "      <td>1004</td>\n",
       "      <td>50000</td>\n",
       "      <td>mayank</td>\n",
       "      <td>35</td>\n",
       "      <td>NaN</td>\n",
       "      <td>NaN</td>\n",
       "    </tr>\n",
       "  </tbody>\n",
       "</table>\n",
       "</div>"
      ],
      "text/plain": [
       "   emp_id  sal_x    name  age    sal_y  address\n",
       "0    1001  20000    amit   32  20000.0  panipat\n",
       "1    1002  30000   abhay   34  30000.0   mohali\n",
       "2    1003  40000  sorabh   31      NaN      NaN\n",
       "3    1004  50000  mayank   35      NaN      NaN"
      ]
     },
     "execution_count": 22,
     "metadata": {},
     "output_type": "execute_result"
    }
   ],
   "source": [
    "df1.merge(df2,how=\"left\",on=\"emp_id\")"
   ]
  },
  {
   "cell_type": "code",
   "execution_count": 23,
   "id": "84e50865-959e-41bc-ad5c-38f83b930577",
   "metadata": {},
   "outputs": [
    {
     "data": {
      "text/html": [
       "<div>\n",
       "<style scoped>\n",
       "    .dataframe tbody tr th:only-of-type {\n",
       "        vertical-align: middle;\n",
       "    }\n",
       "\n",
       "    .dataframe tbody tr th {\n",
       "        vertical-align: top;\n",
       "    }\n",
       "\n",
       "    .dataframe thead th {\n",
       "        text-align: right;\n",
       "    }\n",
       "</style>\n",
       "<table border=\"1\" class=\"dataframe\">\n",
       "  <thead>\n",
       "    <tr style=\"text-align: right;\">\n",
       "      <th></th>\n",
       "      <th>emp_id</th>\n",
       "      <th>sal_x</th>\n",
       "      <th>name</th>\n",
       "      <th>age</th>\n",
       "      <th>sal_y</th>\n",
       "      <th>address</th>\n",
       "    </tr>\n",
       "  </thead>\n",
       "  <tbody>\n",
       "    <tr>\n",
       "      <th>0</th>\n",
       "      <td>1001</td>\n",
       "      <td>20000</td>\n",
       "      <td>amit</td>\n",
       "      <td>32</td>\n",
       "      <td>20000.0</td>\n",
       "      <td>panipat</td>\n",
       "    </tr>\n",
       "    <tr>\n",
       "      <th>1</th>\n",
       "      <td>1002</td>\n",
       "      <td>30000</td>\n",
       "      <td>abhay</td>\n",
       "      <td>34</td>\n",
       "      <td>30000.0</td>\n",
       "      <td>mohali</td>\n",
       "    </tr>\n",
       "    <tr>\n",
       "      <th>2</th>\n",
       "      <td>1003</td>\n",
       "      <td>40000</td>\n",
       "      <td>sorabh</td>\n",
       "      <td>31</td>\n",
       "      <td>NaN</td>\n",
       "      <td>NaN</td>\n",
       "    </tr>\n",
       "    <tr>\n",
       "      <th>3</th>\n",
       "      <td>1004</td>\n",
       "      <td>50000</td>\n",
       "      <td>mayank</td>\n",
       "      <td>35</td>\n",
       "      <td>NaN</td>\n",
       "      <td>NaN</td>\n",
       "    </tr>\n",
       "  </tbody>\n",
       "</table>\n",
       "</div>"
      ],
      "text/plain": [
       "   emp_id  sal_x    name  age    sal_y  address\n",
       "0    1001  20000    amit   32  20000.0  panipat\n",
       "1    1002  30000   abhay   34  30000.0   mohali\n",
       "2    1003  40000  sorabh   31      NaN      NaN\n",
       "3    1004  50000  mayank   35      NaN      NaN"
      ]
     },
     "execution_count": 23,
     "metadata": {},
     "output_type": "execute_result"
    }
   ],
   "source": [
    "pd.merge(df1,df2,how='left',on='emp_id',suffixes=('_x','_y'))"
   ]
  },
  {
   "cell_type": "code",
   "execution_count": 24,
   "id": "1aee146c-6910-46d7-9af1-a77751c9e667",
   "metadata": {},
   "outputs": [
    {
     "data": {
      "text/plain": [
       "\"suffixes=('_x', '_y'): This specifies suffixes to use for overlapping column names in df1 and df2. \\n******************If both DataFrames have columns with the same name other than emp_id,***********************\\nthose in df1 will get the suffix _x and those in df2 will get the suffix _y\""
      ]
     },
     "execution_count": 24,
     "metadata": {},
     "output_type": "execute_result"
    }
   ],
   "source": [
    "'''suffixes=('_x', '_y'): This specifies suffixes to use for overlapping column names in df1 and df2. \n",
    "******************If both DataFrames have columns with the same name other than emp_id,***********************\n",
    "those in df1 will get the suffix _x and those in df2 will get the suffix _y'''"
   ]
  },
  {
   "cell_type": "code",
   "execution_count": 25,
   "id": "fbb7756c-5fd4-41ee-9628-f8aaa7151bb8",
   "metadata": {},
   "outputs": [
    {
     "data": {
      "text/html": [
       "<div>\n",
       "<style scoped>\n",
       "    .dataframe tbody tr th:only-of-type {\n",
       "        vertical-align: middle;\n",
       "    }\n",
       "\n",
       "    .dataframe tbody tr th {\n",
       "        vertical-align: top;\n",
       "    }\n",
       "\n",
       "    .dataframe thead th {\n",
       "        text-align: right;\n",
       "    }\n",
       "</style>\n",
       "<table border=\"1\" class=\"dataframe\">\n",
       "  <thead>\n",
       "    <tr style=\"text-align: right;\">\n",
       "      <th></th>\n",
       "      <th>emp_id</th>\n",
       "      <th>sal_x</th>\n",
       "      <th>name</th>\n",
       "      <th>age</th>\n",
       "      <th>sal_y</th>\n",
       "      <th>address</th>\n",
       "    </tr>\n",
       "  </thead>\n",
       "  <tbody>\n",
       "    <tr>\n",
       "      <th>0</th>\n",
       "      <td>1001</td>\n",
       "      <td>20000.0</td>\n",
       "      <td>amit</td>\n",
       "      <td>32.0</td>\n",
       "      <td>20000</td>\n",
       "      <td>panipat</td>\n",
       "    </tr>\n",
       "    <tr>\n",
       "      <th>1</th>\n",
       "      <td>1002</td>\n",
       "      <td>30000.0</td>\n",
       "      <td>abhay</td>\n",
       "      <td>34.0</td>\n",
       "      <td>30000</td>\n",
       "      <td>mohali</td>\n",
       "    </tr>\n",
       "    <tr>\n",
       "      <th>2</th>\n",
       "      <td>1005</td>\n",
       "      <td>NaN</td>\n",
       "      <td>NaN</td>\n",
       "      <td>NaN</td>\n",
       "      <td>40000</td>\n",
       "      <td>lucknow</td>\n",
       "    </tr>\n",
       "    <tr>\n",
       "      <th>3</th>\n",
       "      <td>1006</td>\n",
       "      <td>NaN</td>\n",
       "      <td>NaN</td>\n",
       "      <td>NaN</td>\n",
       "      <td>50000</td>\n",
       "      <td>noida</td>\n",
       "    </tr>\n",
       "  </tbody>\n",
       "</table>\n",
       "</div>"
      ],
      "text/plain": [
       "   emp_id    sal_x   name   age  sal_y  address\n",
       "0    1001  20000.0   amit  32.0  20000  panipat\n",
       "1    1002  30000.0  abhay  34.0  30000   mohali\n",
       "2    1005      NaN    NaN   NaN  40000  lucknow\n",
       "3    1006      NaN    NaN   NaN  50000    noida"
      ]
     },
     "execution_count": 25,
     "metadata": {},
     "output_type": "execute_result"
    }
   ],
   "source": [
    "df1.merge(df2,how=\"right\",on=\"emp_id\")"
   ]
  },
  {
   "cell_type": "code",
   "execution_count": 26,
   "id": "a14b4ea9-4dcf-4532-acb1-3201c49f0beb",
   "metadata": {},
   "outputs": [
    {
     "data": {
      "text/html": [
       "<div>\n",
       "<style scoped>\n",
       "    .dataframe tbody tr th:only-of-type {\n",
       "        vertical-align: middle;\n",
       "    }\n",
       "\n",
       "    .dataframe tbody tr th {\n",
       "        vertical-align: top;\n",
       "    }\n",
       "\n",
       "    .dataframe thead th {\n",
       "        text-align: right;\n",
       "    }\n",
       "</style>\n",
       "<table border=\"1\" class=\"dataframe\">\n",
       "  <thead>\n",
       "    <tr style=\"text-align: right;\">\n",
       "      <th></th>\n",
       "      <th>emp_id_x</th>\n",
       "      <th>sal_x</th>\n",
       "      <th>name</th>\n",
       "      <th>age</th>\n",
       "      <th>emp_id_y</th>\n",
       "      <th>sal_y</th>\n",
       "      <th>address</th>\n",
       "    </tr>\n",
       "  </thead>\n",
       "  <tbody>\n",
       "    <tr>\n",
       "      <th>0</th>\n",
       "      <td>1001</td>\n",
       "      <td>20000</td>\n",
       "      <td>amit</td>\n",
       "      <td>32</td>\n",
       "      <td>1001</td>\n",
       "      <td>20000</td>\n",
       "      <td>panipat</td>\n",
       "    </tr>\n",
       "    <tr>\n",
       "      <th>1</th>\n",
       "      <td>1001</td>\n",
       "      <td>20000</td>\n",
       "      <td>amit</td>\n",
       "      <td>32</td>\n",
       "      <td>1002</td>\n",
       "      <td>30000</td>\n",
       "      <td>mohali</td>\n",
       "    </tr>\n",
       "    <tr>\n",
       "      <th>2</th>\n",
       "      <td>1001</td>\n",
       "      <td>20000</td>\n",
       "      <td>amit</td>\n",
       "      <td>32</td>\n",
       "      <td>1005</td>\n",
       "      <td>40000</td>\n",
       "      <td>lucknow</td>\n",
       "    </tr>\n",
       "    <tr>\n",
       "      <th>3</th>\n",
       "      <td>1001</td>\n",
       "      <td>20000</td>\n",
       "      <td>amit</td>\n",
       "      <td>32</td>\n",
       "      <td>1006</td>\n",
       "      <td>50000</td>\n",
       "      <td>noida</td>\n",
       "    </tr>\n",
       "    <tr>\n",
       "      <th>4</th>\n",
       "      <td>1002</td>\n",
       "      <td>30000</td>\n",
       "      <td>abhay</td>\n",
       "      <td>34</td>\n",
       "      <td>1001</td>\n",
       "      <td>20000</td>\n",
       "      <td>panipat</td>\n",
       "    </tr>\n",
       "    <tr>\n",
       "      <th>5</th>\n",
       "      <td>1002</td>\n",
       "      <td>30000</td>\n",
       "      <td>abhay</td>\n",
       "      <td>34</td>\n",
       "      <td>1002</td>\n",
       "      <td>30000</td>\n",
       "      <td>mohali</td>\n",
       "    </tr>\n",
       "    <tr>\n",
       "      <th>6</th>\n",
       "      <td>1002</td>\n",
       "      <td>30000</td>\n",
       "      <td>abhay</td>\n",
       "      <td>34</td>\n",
       "      <td>1005</td>\n",
       "      <td>40000</td>\n",
       "      <td>lucknow</td>\n",
       "    </tr>\n",
       "    <tr>\n",
       "      <th>7</th>\n",
       "      <td>1002</td>\n",
       "      <td>30000</td>\n",
       "      <td>abhay</td>\n",
       "      <td>34</td>\n",
       "      <td>1006</td>\n",
       "      <td>50000</td>\n",
       "      <td>noida</td>\n",
       "    </tr>\n",
       "    <tr>\n",
       "      <th>8</th>\n",
       "      <td>1003</td>\n",
       "      <td>40000</td>\n",
       "      <td>sorabh</td>\n",
       "      <td>31</td>\n",
       "      <td>1001</td>\n",
       "      <td>20000</td>\n",
       "      <td>panipat</td>\n",
       "    </tr>\n",
       "    <tr>\n",
       "      <th>9</th>\n",
       "      <td>1003</td>\n",
       "      <td>40000</td>\n",
       "      <td>sorabh</td>\n",
       "      <td>31</td>\n",
       "      <td>1002</td>\n",
       "      <td>30000</td>\n",
       "      <td>mohali</td>\n",
       "    </tr>\n",
       "    <tr>\n",
       "      <th>10</th>\n",
       "      <td>1003</td>\n",
       "      <td>40000</td>\n",
       "      <td>sorabh</td>\n",
       "      <td>31</td>\n",
       "      <td>1005</td>\n",
       "      <td>40000</td>\n",
       "      <td>lucknow</td>\n",
       "    </tr>\n",
       "    <tr>\n",
       "      <th>11</th>\n",
       "      <td>1003</td>\n",
       "      <td>40000</td>\n",
       "      <td>sorabh</td>\n",
       "      <td>31</td>\n",
       "      <td>1006</td>\n",
       "      <td>50000</td>\n",
       "      <td>noida</td>\n",
       "    </tr>\n",
       "    <tr>\n",
       "      <th>12</th>\n",
       "      <td>1004</td>\n",
       "      <td>50000</td>\n",
       "      <td>mayank</td>\n",
       "      <td>35</td>\n",
       "      <td>1001</td>\n",
       "      <td>20000</td>\n",
       "      <td>panipat</td>\n",
       "    </tr>\n",
       "    <tr>\n",
       "      <th>13</th>\n",
       "      <td>1004</td>\n",
       "      <td>50000</td>\n",
       "      <td>mayank</td>\n",
       "      <td>35</td>\n",
       "      <td>1002</td>\n",
       "      <td>30000</td>\n",
       "      <td>mohali</td>\n",
       "    </tr>\n",
       "    <tr>\n",
       "      <th>14</th>\n",
       "      <td>1004</td>\n",
       "      <td>50000</td>\n",
       "      <td>mayank</td>\n",
       "      <td>35</td>\n",
       "      <td>1005</td>\n",
       "      <td>40000</td>\n",
       "      <td>lucknow</td>\n",
       "    </tr>\n",
       "    <tr>\n",
       "      <th>15</th>\n",
       "      <td>1004</td>\n",
       "      <td>50000</td>\n",
       "      <td>mayank</td>\n",
       "      <td>35</td>\n",
       "      <td>1006</td>\n",
       "      <td>50000</td>\n",
       "      <td>noida</td>\n",
       "    </tr>\n",
       "  </tbody>\n",
       "</table>\n",
       "</div>"
      ],
      "text/plain": [
       "    emp_id_x  sal_x    name  age  emp_id_y  sal_y  address\n",
       "0       1001  20000    amit   32      1001  20000  panipat\n",
       "1       1001  20000    amit   32      1002  30000   mohali\n",
       "2       1001  20000    amit   32      1005  40000  lucknow\n",
       "3       1001  20000    amit   32      1006  50000    noida\n",
       "4       1002  30000   abhay   34      1001  20000  panipat\n",
       "5       1002  30000   abhay   34      1002  30000   mohali\n",
       "6       1002  30000   abhay   34      1005  40000  lucknow\n",
       "7       1002  30000   abhay   34      1006  50000    noida\n",
       "8       1003  40000  sorabh   31      1001  20000  panipat\n",
       "9       1003  40000  sorabh   31      1002  30000   mohali\n",
       "10      1003  40000  sorabh   31      1005  40000  lucknow\n",
       "11      1003  40000  sorabh   31      1006  50000    noida\n",
       "12      1004  50000  mayank   35      1001  20000  panipat\n",
       "13      1004  50000  mayank   35      1002  30000   mohali\n",
       "14      1004  50000  mayank   35      1005  40000  lucknow\n",
       "15      1004  50000  mayank   35      1006  50000    noida"
      ]
     },
     "execution_count": 26,
     "metadata": {},
     "output_type": "execute_result"
    }
   ],
   "source": [
    "pd.merge(df1,df2,how='cross')"
   ]
  },
  {
   "cell_type": "markdown",
   "id": "5dc03519-f5d0-468d-90c2-b61258345076",
   "metadata": {},
   "source": [
    "# DATETIME LIBRARY"
   ]
  },
  {
   "cell_type": "code",
   "execution_count": 28,
   "id": "5d78e0b4-da11-4d62-8708-565f8f3e7660",
   "metadata": {},
   "outputs": [],
   "source": [
    "import datetime as dt"
   ]
  },
  {
   "cell_type": "code",
   "execution_count": 29,
   "id": "4ad69865-2ae5-476c-8a76-1084fc0182c8",
   "metadata": {},
   "outputs": [
    {
     "data": {
      "text/plain": [
       "datetime.date(2024, 7, 4)"
      ]
     },
     "execution_count": 29,
     "metadata": {},
     "output_type": "execute_result"
    }
   ],
   "source": [
    "today=dt.date(2024,7,4)#(YYYY,MM,DD)\n",
    "today"
   ]
  },
  {
   "cell_type": "code",
   "execution_count": 30,
   "id": "0e4ce74e-8023-46c8-9156-74e6673a2ca0",
   "metadata": {},
   "outputs": [
    {
     "data": {
      "text/plain": [
       "4"
      ]
     },
     "execution_count": 30,
     "metadata": {},
     "output_type": "execute_result"
    }
   ],
   "source": [
    "today.day"
   ]
  },
  {
   "cell_type": "code",
   "execution_count": 31,
   "id": "3b74db1b-953f-4b7d-b012-7b5e9ec303af",
   "metadata": {},
   "outputs": [
    {
     "data": {
      "text/plain": [
       "7"
      ]
     },
     "execution_count": 31,
     "metadata": {},
     "output_type": "execute_result"
    }
   ],
   "source": [
    "today.month"
   ]
  },
  {
   "cell_type": "code",
   "execution_count": 32,
   "id": "a448b30b-734c-4350-bbaa-5b791c1e491d",
   "metadata": {},
   "outputs": [
    {
     "data": {
      "text/plain": [
       "2024"
      ]
     },
     "execution_count": 32,
     "metadata": {},
     "output_type": "execute_result"
    }
   ],
   "source": [
    "today.year"
   ]
  },
  {
   "cell_type": "code",
   "execution_count": 52,
   "id": "a0986626-3b01-4519-b39e-0e63f1f384c5",
   "metadata": {},
   "outputs": [],
   "source": [
    "today=dt.datetime(2024,7,4,10,38,45)"
   ]
  },
  {
   "cell_type": "code",
   "execution_count": 54,
   "id": "bdb057e0-7702-45d2-9cb0-4c0550e82c78",
   "metadata": {},
   "outputs": [
    {
     "data": {
      "text/plain": [
       "datetime.datetime(2024, 7, 4, 10, 38, 45)"
      ]
     },
     "execution_count": 54,
     "metadata": {},
     "output_type": "execute_result"
    }
   ],
   "source": [
    "today"
   ]
  },
  {
   "cell_type": "code",
   "execution_count": 98,
   "id": "32b600ea-9f30-4d52-bd17-db41e5357612",
   "metadata": {},
   "outputs": [
    {
     "data": {
      "text/plain": [
       "7"
      ]
     },
     "execution_count": 98,
     "metadata": {},
     "output_type": "execute_result"
    }
   ],
   "source": [
    "today.month"
   ]
  },
  {
   "cell_type": "code",
   "execution_count": 100,
   "id": "243d7d4c-d7a9-47ae-b5a3-784051333f3c",
   "metadata": {},
   "outputs": [
    {
     "data": {
      "text/plain": [
       "4"
      ]
     },
     "execution_count": 100,
     "metadata": {},
     "output_type": "execute_result"
    }
   ],
   "source": [
    "today.day"
   ]
  },
  {
   "cell_type": "code",
   "execution_count": 102,
   "id": "48bc251f-6101-48e0-9880-2e9c8173f19d",
   "metadata": {},
   "outputs": [
    {
     "data": {
      "text/plain": [
       "<function datetime.time>"
      ]
     },
     "execution_count": 102,
     "metadata": {},
     "output_type": "execute_result"
    }
   ],
   "source": [
    "today.time"
   ]
  },
  {
   "cell_type": "code",
   "execution_count": 60,
   "id": "db9d6144-18d2-4305-9a64-2a6e964dd9e5",
   "metadata": {},
   "outputs": [
    {
     "data": {
      "text/plain": [
       "Timestamp('2024-07-04 10:41:30')"
      ]
     },
     "execution_count": 60,
     "metadata": {},
     "output_type": "execute_result"
    }
   ],
   "source": [
    "pd.Timestamp('2024/07/04 10:41:30')"
   ]
  },
  {
   "cell_type": "code",
   "execution_count": 88,
   "id": "2a65da32-277a-41f4-a5ea-0d19c62b223c",
   "metadata": {},
   "outputs": [
    {
     "data": {
      "text/plain": [
       "DatetimeIndex(['2024-07-04', '2024-07-03', '2024-07-02', '2024-07-01'], dtype='datetime64[ns]', freq=None)"
      ]
     },
     "execution_count": 88,
     "metadata": {},
     "output_type": "execute_result"
    }
   ],
   "source": [
    "dateindex=pd.DatetimeIndex(['2024/07/04','2024/07/03','2024/07/02','2024/07/01'])\n",
    "dateindex"
   ]
  },
  {
   "cell_type": "code",
   "execution_count": 90,
   "id": "62c079a0-5b95-46c0-b1ea-3ad6cdb42984",
   "metadata": {},
   "outputs": [],
   "source": [
    "temp=[34,37,38,39]"
   ]
  },
  {
   "cell_type": "code",
   "execution_count": 96,
   "id": "de945a82-b671-4ed5-9b87-c8a03d991248",
   "metadata": {},
   "outputs": [
    {
     "data": {
      "text/plain": [
       "2024-07-04    34\n",
       "2024-07-03    37\n",
       "2024-07-02    38\n",
       "2024-07-01    39\n",
       "dtype: int64"
      ]
     },
     "execution_count": 96,
     "metadata": {},
     "output_type": "execute_result"
    }
   ],
   "source": [
    "temp_day=pd.Series(data=temp,index=dateindex)\n",
    "temp_day"
   ]
  },
  {
   "cell_type": "code",
   "execution_count": 110,
   "id": "8c56da4b-2544-4153-a8a9-6bf26690eac7",
   "metadata": {},
   "outputs": [
    {
     "name": "stderr",
     "output_type": "stream",
     "text": [
      "C:\\Users\\LENOVO\\AppData\\Local\\Temp\\ipykernel_19488\\3110145246.py:1: UserWarning: The argument 'infer_datetime_format' is deprecated and will be removed in a future version. A strict version of it is now the default, see https://pandas.pydata.org/pdeps/0004-consistent-to-datetime-parsing.html. You can safely remove this argument.\n",
      "  pd.to_datetime(['july 4 2024','2024/07/04','6th dec 2023','today'],infer_datetime_format=True,errors='ignore')\n",
      "C:\\Users\\LENOVO\\AppData\\Local\\Temp\\ipykernel_19488\\3110145246.py:1: UserWarning: Could not infer format, so each element will be parsed individually, falling back to `dateutil`. To ensure parsing is consistent and as-expected, please specify a format.\n",
      "  pd.to_datetime(['july 4 2024','2024/07/04','6th dec 2023','today'],infer_datetime_format=True,errors='ignore')\n"
     ]
    },
    {
     "data": {
      "text/plain": [
       "DatetimeIndex([       '2024-07-04 00:00:00',        '2024-07-04 00:00:00',\n",
       "                      '2023-12-06 00:00:00', '2024-07-04 10:58:19.407839'],\n",
       "              dtype='datetime64[ns]', freq=None)"
      ]
     },
     "execution_count": 110,
     "metadata": {},
     "output_type": "execute_result"
    }
   ],
   "source": [
    "pd.to_datetime(['july 4 2024','2024/07/04','6th dec 2023','today'],infer_datetime_format=True,errors='ignore')"
   ]
  },
  {
   "cell_type": "code",
   "execution_count": 116,
   "id": "f788c2bf-70d6-4fb5-b0c0-8df619f5c597",
   "metadata": {},
   "outputs": [
    {
     "data": {
      "text/plain": [
       "DatetimeIndex(['2024-07-07', '2024-07-14', '2024-07-21', '2024-07-28',\n",
       "               '2024-08-04', '2024-08-11', '2024-08-18', '2024-08-25',\n",
       "               '2024-09-01', '2024-09-08', '2024-09-15', '2024-09-22',\n",
       "               '2024-09-29', '2024-10-06', '2024-10-13', '2024-10-20',\n",
       "               '2024-10-27', '2024-11-03', '2024-11-10', '2024-11-17',\n",
       "               '2024-11-24', '2024-12-01', '2024-12-08', '2024-12-15'],\n",
       "              dtype='datetime64[ns]', freq='W-SUN')"
      ]
     },
     "execution_count": 116,
     "metadata": {},
     "output_type": "execute_result"
    }
   ],
   "source": [
    "pd.date_range(start='2024/07/04',end='2024/12/15',freq='W')#week W"
   ]
  },
  {
   "cell_type": "code",
   "execution_count": 118,
   "id": "250d2671-6f0d-45a5-9140-66f8a0faa2e4",
   "metadata": {},
   "outputs": [
    {
     "data": {
      "text/plain": [
       "DatetimeIndex(['2024-07-04 00:00:00', '2024-07-04 08:00:00',\n",
       "               '2024-07-04 16:00:00', '2024-07-05 00:00:00',\n",
       "               '2024-07-05 08:00:00', '2024-07-05 16:00:00',\n",
       "               '2024-07-06 00:00:00', '2024-07-06 08:00:00',\n",
       "               '2024-07-06 16:00:00', '2024-07-07 00:00:00',\n",
       "               ...\n",
       "               '2024-12-12 00:00:00', '2024-12-12 08:00:00',\n",
       "               '2024-12-12 16:00:00', '2024-12-13 00:00:00',\n",
       "               '2024-12-13 08:00:00', '2024-12-13 16:00:00',\n",
       "               '2024-12-14 00:00:00', '2024-12-14 08:00:00',\n",
       "               '2024-12-14 16:00:00', '2024-12-15 00:00:00'],\n",
       "              dtype='datetime64[ns]', length=493, freq='8H')"
      ]
     },
     "execution_count": 118,
     "metadata": {},
     "output_type": "execute_result"
    }
   ],
   "source": [
    "pd.date_range(start='2024/07/04',end='2024/12/15',freq='8H')#8-8 gante ke kitne slot banegae:493"
   ]
  },
  {
   "cell_type": "code",
   "execution_count": 120,
   "id": "f817a7cd-5e51-4ac3-8a33-3d4b2cdde0c6",
   "metadata": {},
   "outputs": [
    {
     "data": {
      "text/plain": [
       "DatetimeIndex(['2024-07-04', '2024-07-06', '2024-07-08', '2024-07-10',\n",
       "               '2024-07-12', '2024-07-14', '2024-07-16', '2024-07-18',\n",
       "               '2024-07-20', '2024-07-22', '2024-07-24', '2024-07-26',\n",
       "               '2024-07-28', '2024-07-30', '2024-08-01', '2024-08-03',\n",
       "               '2024-08-05', '2024-08-07', '2024-08-09', '2024-08-11',\n",
       "               '2024-08-13', '2024-08-15', '2024-08-17', '2024-08-19',\n",
       "               '2024-08-21', '2024-08-23', '2024-08-25', '2024-08-27',\n",
       "               '2024-08-29', '2024-08-31', '2024-09-02', '2024-09-04',\n",
       "               '2024-09-06', '2024-09-08', '2024-09-10', '2024-09-12',\n",
       "               '2024-09-14', '2024-09-16', '2024-09-18', '2024-09-20',\n",
       "               '2024-09-22', '2024-09-24', '2024-09-26', '2024-09-28',\n",
       "               '2024-09-30', '2024-10-02', '2024-10-04', '2024-10-06',\n",
       "               '2024-10-08', '2024-10-10', '2024-10-12', '2024-10-14',\n",
       "               '2024-10-16', '2024-10-18', '2024-10-20', '2024-10-22',\n",
       "               '2024-10-24', '2024-10-26', '2024-10-28', '2024-10-30',\n",
       "               '2024-11-01', '2024-11-03', '2024-11-05', '2024-11-07',\n",
       "               '2024-11-09', '2024-11-11', '2024-11-13', '2024-11-15',\n",
       "               '2024-11-17', '2024-11-19', '2024-11-21', '2024-11-23',\n",
       "               '2024-11-25', '2024-11-27', '2024-11-29', '2024-12-01',\n",
       "               '2024-12-03', '2024-12-05', '2024-12-07', '2024-12-09',\n",
       "               '2024-12-11', '2024-12-13', '2024-12-15'],\n",
       "              dtype='datetime64[ns]', freq='2D')"
      ]
     },
     "execution_count": 120,
     "metadata": {},
     "output_type": "execute_result"
    }
   ],
   "source": [
    "pd.date_range(start='2024/07/04',end='2024/12/15',freq='2D')# 2-2 din"
   ]
  },
  {
   "cell_type": "code",
   "execution_count": 122,
   "id": "bbda71b0-5ead-49ff-9361-f4c75661c9b6",
   "metadata": {},
   "outputs": [
    {
     "data": {
      "text/plain": [
       "DatetimeIndex(['2024-07-04', '2024-07-05', '2024-07-06', '2024-07-07',\n",
       "               '2024-07-08', '2024-07-09', '2024-07-10', '2024-07-11',\n",
       "               '2024-07-12', '2024-07-13',\n",
       "               ...\n",
       "               '2024-12-06', '2024-12-07', '2024-12-08', '2024-12-09',\n",
       "               '2024-12-10', '2024-12-11', '2024-12-12', '2024-12-13',\n",
       "               '2024-12-14', '2024-12-15'],\n",
       "              dtype='datetime64[ns]', length=165, freq='D')"
      ]
     },
     "execution_count": 122,
     "metadata": {},
     "output_type": "execute_result"
    }
   ],
   "source": [
    "pd.date_range(start='2024/07/04',end='2024/12/15',freq='D')#day"
   ]
  },
  {
   "cell_type": "code",
   "execution_count": 124,
   "id": "649a9a04-ccdc-4b93-acb2-a5c93feab653",
   "metadata": {},
   "outputs": [
    {
     "data": {
      "text/plain": [
       "DatetimeIndex([          '2024-07-04 00:00:00',\n",
       "               '2024-07-18 21:49:05.454545454',\n",
       "               '2024-08-02 19:38:10.909090909',\n",
       "               '2024-08-17 17:27:16.363636363',\n",
       "               '2024-09-01 15:16:21.818181818',\n",
       "               '2024-09-16 13:05:27.272727272',\n",
       "               '2024-10-01 10:54:32.727272727',\n",
       "               '2024-10-16 08:43:38.181818182',\n",
       "               '2024-10-31 06:32:43.636363636',\n",
       "               '2024-11-15 04:21:49.090909090',\n",
       "               '2024-11-30 02:10:54.545454544',\n",
       "                         '2024-12-15 00:00:00'],\n",
       "              dtype='datetime64[ns]', freq=None)"
      ]
     },
     "execution_count": 124,
     "metadata": {},
     "output_type": "execute_result"
    }
   ],
   "source": [
    "pd.date_range(start='2024/07/04',end='2024/12/15',periods=12)#12 "
   ]
  },
  {
   "cell_type": "code",
   "execution_count": null,
   "id": "869a5473-5c59-4918-9e85-1ef50d0cc9cb",
   "metadata": {},
   "outputs": [],
   "source": []
  }
 ],
 "metadata": {
  "kernelspec": {
   "display_name": "Python 3 (ipykernel)",
   "language": "python",
   "name": "python3"
  },
  "language_info": {
   "codemirror_mode": {
    "name": "ipython",
    "version": 3
   },
   "file_extension": ".py",
   "mimetype": "text/x-python",
   "name": "python",
   "nbconvert_exporter": "python",
   "pygments_lexer": "ipython3",
   "version": "3.11.5"
  }
 },
 "nbformat": 4,
 "nbformat_minor": 5
}
