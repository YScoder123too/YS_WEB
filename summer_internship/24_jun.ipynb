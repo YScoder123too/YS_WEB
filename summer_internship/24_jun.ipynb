{
 "cells": [
  {
   "cell_type": "code",
   "execution_count": 4,
   "id": "242ba694-ca07-4d40-9235-56202c9a2ff2",
   "metadata": {},
   "outputs": [],
   "source": [
    "import numpy as np"
   ]
  },
  {
   "cell_type": "code",
   "execution_count": 5,
   "id": "8f7a4b5e-b379-4666-ad7f-e4357a28f9c3",
   "metadata": {},
   "outputs": [],
   "source": [
    "arr=np.array([[1,2,3,4],[5,6,7,8],[9,10,11,12]])"
   ]
  },
  {
   "cell_type": "code",
   "execution_count": 6,
   "id": "4b30a960-24ec-4437-ac14-9bf2db327945",
   "metadata": {},
   "outputs": [
    {
     "name": "stdout",
     "output_type": "stream",
     "text": [
      "[[ 1  2  3  4]\n",
      " [ 5  6  7  8]\n",
      " [ 9 10 11 12]]\n"
     ]
    }
   ],
   "source": [
    "print(arr)"
   ]
  },
  {
   "cell_type": "code",
   "execution_count": 7,
   "id": "d47b51d0-b561-43c9-8fa8-a7eb02254205",
   "metadata": {},
   "outputs": [
    {
     "data": {
      "text/plain": [
       "(3, 4)"
      ]
     },
     "execution_count": 7,
     "metadata": {},
     "output_type": "execute_result"
    }
   ],
   "source": [
    "arr.shape"
   ]
  },
  {
   "cell_type": "code",
   "execution_count": 8,
   "id": "a64b14b1-b7c9-4c05-bcaa-9adfa3b6364c",
   "metadata": {},
   "outputs": [
    {
     "data": {
      "text/plain": [
       "8"
      ]
     },
     "execution_count": 8,
     "metadata": {},
     "output_type": "execute_result"
    }
   ],
   "source": [
    "#accessing specific elements of 2 d array -array[rows,column\n",
    "arr[1,3]"
   ]
  },
  {
   "cell_type": "code",
   "execution_count": 9,
   "id": "05360503-53cd-46d5-b7a2-ce207fc1acc8",
   "metadata": {},
   "outputs": [
    {
     "data": {
      "text/plain": [
       "array([ 4,  8, 12])"
      ]
     },
     "execution_count": 9,
     "metadata": {},
     "output_type": "execute_result"
    }
   ],
   "source": [
    "arr[:,3]"
   ]
  },
  {
   "cell_type": "code",
   "execution_count": 10,
   "id": "7fdae353-01c6-4150-87d8-d3a292c9eeef",
   "metadata": {},
   "outputs": [
    {
     "data": {
      "text/plain": [
       "array([[ 2,  3],\n",
       "       [ 6,  7],\n",
       "       [10, 11]])"
      ]
     },
     "execution_count": 10,
     "metadata": {},
     "output_type": "execute_result"
    }
   ],
   "source": [
    "arr[:,1:3]"
   ]
  },
  {
   "cell_type": "code",
   "execution_count": 11,
   "id": "07b84d19-708b-4cca-87cb-005f3e0e055a",
   "metadata": {},
   "outputs": [
    {
     "data": {
      "text/plain": [
       "array([[ 1,  2,  3,  4],\n",
       "       [ 5,  6,  7,  8],\n",
       "       [ 9, 10, 11, 12]])"
      ]
     },
     "execution_count": 11,
     "metadata": {},
     "output_type": "execute_result"
    }
   ],
   "source": [
    "arr"
   ]
  },
  {
   "cell_type": "code",
   "execution_count": 12,
   "id": "c9e5a872-19be-4bcc-837c-4ef63e77d912",
   "metadata": {},
   "outputs": [
    {
     "data": {
      "text/plain": [
       "array([ 4,  8, 12])"
      ]
     },
     "execution_count": 12,
     "metadata": {},
     "output_type": "execute_result"
    }
   ],
   "source": [
    "arr[:,3]"
   ]
  },
  {
   "cell_type": "code",
   "execution_count": 13,
   "id": "fe9ad3a0-d37b-487a-a882-1390da033f4f",
   "metadata": {},
   "outputs": [
    {
     "data": {
      "text/plain": [
       "array([[ 2,  3,  4],\n",
       "       [ 6,  7,  8],\n",
       "       [10, 11, 12]])"
      ]
     },
     "execution_count": 13,
     "metadata": {},
     "output_type": "execute_result"
    }
   ],
   "source": [
    "arr[:,1:4]"
   ]
  },
  {
   "cell_type": "code",
   "execution_count": 14,
   "id": "4b639cf5-8342-472b-aa24-8a7d5b15db47",
   "metadata": {},
   "outputs": [
    {
     "data": {
      "text/plain": [
       "array([[ 2,  3],\n",
       "       [ 6,  7],\n",
       "       [10, 11]])"
      ]
     },
     "execution_count": 14,
     "metadata": {},
     "output_type": "execute_result"
    }
   ],
   "source": [
    "arr[:,1:3]"
   ]
  },
  {
   "cell_type": "code",
   "execution_count": 15,
   "id": "8b8bd494-bea7-4653-b314-78af368a4123",
   "metadata": {},
   "outputs": [
    {
     "data": {
      "text/plain": [
       "array([[2, 3, 4]])"
      ]
     },
     "execution_count": 15,
     "metadata": {},
     "output_type": "execute_result"
    }
   ],
   "source": [
    "arr[0:1,1:4]"
   ]
  },
  {
   "cell_type": "code",
   "execution_count": 16,
   "id": "8b645c0f-e8a8-483c-92ee-0e7e14f5bf97",
   "metadata": {},
   "outputs": [
    {
     "data": {
      "text/plain": [
       "array([[2, 3],\n",
       "       [6, 7]])"
      ]
     },
     "execution_count": 16,
     "metadata": {},
     "output_type": "execute_result"
    }
   ],
   "source": [
    "arr[0:2,1:3]"
   ]
  },
  {
   "cell_type": "code",
   "execution_count": 17,
   "id": "60c1b89c-a846-470b-ae9a-2d82d1b462c1",
   "metadata": {},
   "outputs": [],
   "source": [
    "#creating all )s matrix\n",
    "a=np.zeros((3,4),dtype=\"int64\")"
   ]
  },
  {
   "cell_type": "code",
   "execution_count": 18,
   "id": "c579cdb9-9dc3-4ecf-b2bc-e732a14ea66c",
   "metadata": {},
   "outputs": [
    {
     "name": "stdout",
     "output_type": "stream",
     "text": [
      "[[0 0 0 0]\n",
      " [0 0 0 0]\n",
      " [0 0 0 0]]\n"
     ]
    }
   ],
   "source": [
    "print(a)"
   ]
  },
  {
   "cell_type": "code",
   "execution_count": 19,
   "id": "e5abb6bd-0a1a-4879-8dd3-d723ef6ac599",
   "metadata": {},
   "outputs": [],
   "source": [
    "b=np.zeros((3,4),dtype=\"float\")"
   ]
  },
  {
   "cell_type": "code",
   "execution_count": 20,
   "id": "8707e573-8772-4f5d-bb0d-f122590c6e8a",
   "metadata": {},
   "outputs": [
    {
     "name": "stdout",
     "output_type": "stream",
     "text": [
      "[[0. 0. 0. 0.]\n",
      " [0. 0. 0. 0.]\n",
      " [0. 0. 0. 0.]]\n"
     ]
    }
   ],
   "source": [
    "print(b)"
   ]
  },
  {
   "cell_type": "code",
   "execution_count": 21,
   "id": "8788a0e6-502b-4eeb-857b-93b96b47967b",
   "metadata": {},
   "outputs": [],
   "source": [
    "c=np.zeros((3,4))"
   ]
  },
  {
   "cell_type": "code",
   "execution_count": 22,
   "id": "23226f15-866f-422d-b4ae-78769d247e09",
   "metadata": {},
   "outputs": [
    {
     "name": "stdout",
     "output_type": "stream",
     "text": [
      "[[0. 0. 0. 0.]\n",
      " [0. 0. 0. 0.]\n",
      " [0. 0. 0. 0.]]\n"
     ]
    }
   ],
   "source": [
    "print(c)"
   ]
  },
  {
   "cell_type": "code",
   "execution_count": 23,
   "id": "35a6983d-17d4-40cb-aee3-5fcf7d5ced5e",
   "metadata": {},
   "outputs": [],
   "source": [
    "#creating all 1s index"
   ]
  },
  {
   "cell_type": "code",
   "execution_count": 24,
   "id": "61c2b0af-7a27-4228-8ca2-e8d1eb1149d4",
   "metadata": {},
   "outputs": [],
   "source": [
    "a1=np.ones((4,5),dtype=\"int32\")"
   ]
  },
  {
   "cell_type": "code",
   "execution_count": 25,
   "id": "bc9e996b-f1be-4f11-84cd-92e870ae3432",
   "metadata": {},
   "outputs": [
    {
     "name": "stdout",
     "output_type": "stream",
     "text": [
      "[[1 1 1 1 1]\n",
      " [1 1 1 1 1]\n",
      " [1 1 1 1 1]\n",
      " [1 1 1 1 1]]\n"
     ]
    }
   ],
   "source": [
    "print(a1)"
   ]
  },
  {
   "cell_type": "code",
   "execution_count": 26,
   "id": "99f95da0-9144-4312-9156-aea2d10dda07",
   "metadata": {},
   "outputs": [],
   "source": [
    "a1[:,0:3]=10"
   ]
  },
  {
   "cell_type": "code",
   "execution_count": 27,
   "id": "a78f6c6d-774a-48ee-93fa-a9b17cbaff00",
   "metadata": {},
   "outputs": [
    {
     "name": "stdout",
     "output_type": "stream",
     "text": [
      "[[10 10 10  1  1]\n",
      " [10 10 10  1  1]\n",
      " [10 10 10  1  1]\n",
      " [10 10 10  1  1]]\n"
     ]
    }
   ],
   "source": [
    "print(a1)"
   ]
  },
  {
   "cell_type": "code",
   "execution_count": 28,
   "id": "e9b88e29-47bc-42db-a307-fa1205df91d5",
   "metadata": {},
   "outputs": [],
   "source": [
    "a1[0:2,3:5]=4"
   ]
  },
  {
   "cell_type": "code",
   "execution_count": 29,
   "id": "c4708b39-fe12-42a3-8ab2-1b39d573568b",
   "metadata": {},
   "outputs": [
    {
     "data": {
      "text/plain": [
       "array([[10, 10, 10,  4,  4],\n",
       "       [10, 10, 10,  4,  4],\n",
       "       [10, 10, 10,  1,  1],\n",
       "       [10, 10, 10,  1,  1]])"
      ]
     },
     "execution_count": 29,
     "metadata": {},
     "output_type": "execute_result"
    }
   ],
   "source": [
    "a1"
   ]
  },
  {
   "cell_type": "code",
   "execution_count": 30,
   "id": "c164d851-a12d-41cc-8392-7198fca96c7e",
   "metadata": {},
   "outputs": [],
   "source": [
    "c=np.full(a1.shape,99)#here we need to tell shape"
   ]
  },
  {
   "cell_type": "code",
   "execution_count": 31,
   "id": "5dcac5f7-373a-46dd-a72e-5e7964aa8c47",
   "metadata": {},
   "outputs": [
    {
     "data": {
      "text/plain": [
       "array([[99, 99, 99, 99, 99],\n",
       "       [99, 99, 99, 99, 99],\n",
       "       [99, 99, 99, 99, 99],\n",
       "       [99, 99, 99, 99, 99]])"
      ]
     },
     "execution_count": 31,
     "metadata": {},
     "output_type": "execute_result"
    }
   ],
   "source": [
    "c"
   ]
  },
  {
   "cell_type": "code",
   "execution_count": 32,
   "id": "a28f3d9d-df7a-4324-8381-fa05e5804880",
   "metadata": {},
   "outputs": [],
   "source": [
    "d=np.full_like(c,50)#no need to give shape"
   ]
  },
  {
   "cell_type": "code",
   "execution_count": 33,
   "id": "a39d06e2-6377-4475-85e9-3fe8a10f2fd6",
   "metadata": {},
   "outputs": [
    {
     "name": "stdout",
     "output_type": "stream",
     "text": [
      "[[50 50 50 50 50]\n",
      " [50 50 50 50 50]\n",
      " [50 50 50 50 50]\n",
      " [50 50 50 50 50]]\n"
     ]
    }
   ],
   "source": [
    "print(d)"
   ]
  },
  {
   "cell_type": "code",
   "execution_count": 34,
   "id": "b50a1030-e2f9-47b1-8b7a-52cc3e18a202",
   "metadata": {},
   "outputs": [],
   "source": [
    "n1=np.ones((3,3),dtype=\"int32\")"
   ]
  },
  {
   "cell_type": "code",
   "execution_count": 35,
   "id": "fb1d3c37-c7bc-44d0-8c1c-8fbe046e47ff",
   "metadata": {},
   "outputs": [
    {
     "name": "stdout",
     "output_type": "stream",
     "text": [
      "[[1 1 1]\n",
      " [1 1 1]\n",
      " [1 1 1]]\n"
     ]
    }
   ],
   "source": [
    "print(n1)"
   ]
  },
  {
   "cell_type": "code",
   "execution_count": 36,
   "id": "115cb320-3e82-4ca8-be63-fd87f60438ca",
   "metadata": {},
   "outputs": [],
   "source": [
    "n2=np.full_like(n1,2)"
   ]
  },
  {
   "cell_type": "code",
   "execution_count": 37,
   "id": "9146f398-5473-4e5d-abb0-ca298b9c1630",
   "metadata": {},
   "outputs": [
    {
     "name": "stdout",
     "output_type": "stream",
     "text": [
      "[[2 2 2]\n",
      " [2 2 2]\n",
      " [2 2 2]]\n"
     ]
    }
   ],
   "source": [
    "print(n2)"
   ]
  },
  {
   "cell_type": "code",
   "execution_count": 38,
   "id": "c71210f4-eee2-4ca9-beb4-6e7d6711f489",
   "metadata": {},
   "outputs": [],
   "source": [
    "n3=n1+n2"
   ]
  },
  {
   "cell_type": "code",
   "execution_count": 39,
   "id": "4b2cbe15-4412-4bfe-8162-bd5e0110a60d",
   "metadata": {},
   "outputs": [
    {
     "name": "stdout",
     "output_type": "stream",
     "text": [
      "[[3 3 3]\n",
      " [3 3 3]\n",
      " [3 3 3]]\n"
     ]
    }
   ],
   "source": [
    "print(n3)"
   ]
  },
  {
   "cell_type": "code",
   "execution_count": 40,
   "id": "c72b26c6-8055-41b4-bb46-504a0ee68554",
   "metadata": {},
   "outputs": [],
   "source": [
    "n=n3*n2"
   ]
  },
  {
   "cell_type": "code",
   "execution_count": 41,
   "id": "31acb1cf-85ab-4fbd-bfbe-5cd5d8522d54",
   "metadata": {},
   "outputs": [
    {
     "name": "stdout",
     "output_type": "stream",
     "text": [
      "[[6 6 6]\n",
      " [6 6 6]\n",
      " [6 6 6]]\n"
     ]
    }
   ],
   "source": [
    "print(n)"
   ]
  },
  {
   "cell_type": "code",
   "execution_count": 42,
   "id": "f2018126-c344-41bf-9b56-967e41479376",
   "metadata": {},
   "outputs": [],
   "source": [
    "ar2=np.array([[[1,2,3],[4,5,6]],[[7,8,9],[10,11,12]]])"
   ]
  },
  {
   "cell_type": "code",
   "execution_count": 43,
   "id": "245758b1-db47-4e8c-94b4-c98f20a6aab5",
   "metadata": {},
   "outputs": [
    {
     "name": "stdout",
     "output_type": "stream",
     "text": [
      "[[[ 1  2  3]\n",
      "  [ 4  5  6]]\n",
      "\n",
      " [[ 7  8  9]\n",
      "  [10 11 12]]]\n"
     ]
    }
   ],
   "source": [
    "print(ar2)"
   ]
  },
  {
   "cell_type": "code",
   "execution_count": 44,
   "id": "6e5cd678-8148-47b8-92ea-274453b2608f",
   "metadata": {},
   "outputs": [
    {
     "data": {
      "text/plain": [
       "8"
      ]
     },
     "execution_count": 44,
     "metadata": {},
     "output_type": "execute_result"
    }
   ],
   "source": [
    "ar2[1,0,1]#[row,row,column]"
   ]
  },
  {
   "cell_type": "code",
   "execution_count": 45,
   "id": "cadf3196-e102-45cc-9448-dc3ff89d96cf",
   "metadata": {},
   "outputs": [
    {
     "data": {
      "text/plain": [
       "array([[2, 3],\n",
       "       [5, 6]])"
      ]
     },
     "execution_count": 45,
     "metadata": {},
     "output_type": "execute_result"
    }
   ],
   "source": [
    "ar2[0,:,1:3]"
   ]
  },
  {
   "cell_type": "code",
   "execution_count": 46,
   "id": "a60dae01-22f7-4342-b4d8-e89091867b02",
   "metadata": {},
   "outputs": [
    {
     "data": {
      "text/plain": [
       "array([10, 11])"
      ]
     },
     "execution_count": 46,
     "metadata": {},
     "output_type": "execute_result"
    }
   ],
   "source": [
    "ar2[1,1,0:2]"
   ]
  },
  {
   "cell_type": "code",
   "execution_count": 47,
   "id": "a6e2dd1e-7094-4697-96e0-d17e1a7c4f9c",
   "metadata": {},
   "outputs": [
    {
     "data": {
      "text/plain": [
       "array([[2, 3],\n",
       "       [5, 6]])"
      ]
     },
     "execution_count": 47,
     "metadata": {},
     "output_type": "execute_result"
    }
   ],
   "source": [
    "ar2[0,:,1:3]"
   ]
  },
  {
   "cell_type": "code",
   "execution_count": 48,
   "id": "744ed6ad-a4ad-4399-bb45-a2f332f5641f",
   "metadata": {},
   "outputs": [
    {
     "data": {
      "text/plain": [
       "array([[[ 2,  3],\n",
       "        [ 5,  6]],\n",
       "\n",
       "       [[ 8,  9],\n",
       "        [11, 12]]])"
      ]
     },
     "execution_count": 48,
     "metadata": {},
     "output_type": "execute_result"
    }
   ],
   "source": [
    "ar2[:,:,1:3]#isme equal karke koi number bhi assign kar sakte"
   ]
  },
  {
   "cell_type": "code",
   "execution_count": 49,
   "id": "a78a1411-a3eb-4333-b820-feacb06eb32d",
   "metadata": {},
   "outputs": [
    {
     "name": "stdout",
     "output_type": "stream",
     "text": [
      "[ 1  2  3  4  5  6  7  8  9 10 11 12]\n"
     ]
    }
   ],
   "source": [
    "a3=np.array([1,2,3,4,5,6,7,8,9,10,11,12])\n",
    "print(a3)"
   ]
  },
  {
   "cell_type": "code",
   "execution_count": 50,
   "id": "5638403c-ded8-42d9-b226-9a5b6b83478f",
   "metadata": {},
   "outputs": [],
   "source": [
    "a4=a3.reshape(2,6)#reshaping or molding in simple language"
   ]
  },
  {
   "cell_type": "code",
   "execution_count": 51,
   "id": "40b7863b-4b85-4b30-b469-22370293caf6",
   "metadata": {},
   "outputs": [
    {
     "name": "stdout",
     "output_type": "stream",
     "text": [
      "[[ 1  2  3  4  5  6]\n",
      " [ 7  8  9 10 11 12]]\n"
     ]
    }
   ],
   "source": [
    "print(a4)"
   ]
  },
  {
   "cell_type": "code",
   "execution_count": 52,
   "id": "e8435177-26e2-46b1-bd80-1d2ad0ae364d",
   "metadata": {},
   "outputs": [],
   "source": [
    "a5=a3.reshape(2,3,2)#2*3*2=12elelements_"
   ]
  },
  {
   "cell_type": "code",
   "execution_count": 53,
   "id": "e7b620b5-8422-4a01-803b-14be49fe527b",
   "metadata": {},
   "outputs": [
    {
     "name": "stdout",
     "output_type": "stream",
     "text": [
      "[[[ 1  2]\n",
      "  [ 3  4]\n",
      "  [ 5  6]]\n",
      "\n",
      " [[ 7  8]\n",
      "  [ 9 10]\n",
      "  [11 12]]]\n"
     ]
    }
   ],
   "source": [
    "print(a5)"
   ]
  },
  {
   "cell_type": "code",
   "execution_count": 54,
   "id": "dd84a51d-da48-4439-a205-a18649d96bca",
   "metadata": {},
   "outputs": [
    {
     "name": "stdout",
     "output_type": "stream",
     "text": [
      "[ 1  2  3  4  5  6  7  8  9 10 11 12]\n"
     ]
    }
   ],
   "source": [
    "#copying the array\n",
    "x=a3.copy()\n",
    "print(x)"
   ]
  },
  {
   "cell_type": "code",
   "execution_count": 55,
   "id": "0da6a19f-ef1f-43a1-a841-0a45af7673ea",
   "metadata": {},
   "outputs": [],
   "source": [
    "'''COPY vs VIEW'''\n",
    "'''copy mai original mai change nahi aata hai par view karne pe dono mai changes aate hai'''\n",
    "x[3:6]=10 "
   ]
  },
  {
   "cell_type": "code",
   "execution_count": 56,
   "id": "e5ca3e2d-0685-4375-96db-9fc39e554a83",
   "metadata": {},
   "outputs": [
    {
     "name": "stdout",
     "output_type": "stream",
     "text": [
      "[ 1  2  3 10 10 10  7  8  9 10 11 12]\n"
     ]
    }
   ],
   "source": [
    "print(x)"
   ]
  },
  {
   "cell_type": "code",
   "execution_count": 57,
   "id": "8df0c46f-9dc4-4331-9003-1892f123049c",
   "metadata": {},
   "outputs": [
    {
     "name": "stdout",
     "output_type": "stream",
     "text": [
      "[ 1  2  3  4  5  6  7  8  9 10 11 12]\n"
     ]
    }
   ],
   "source": [
    "print(a3)"
   ]
  },
  {
   "cell_type": "code",
   "execution_count": 58,
   "id": "f726a5e2-c9c4-4693-a4b9-f76285523b92",
   "metadata": {},
   "outputs": [
    {
     "name": "stdout",
     "output_type": "stream",
     "text": [
      "[ 1  2  3  4  5  6  7  8  9 10 11 12]\n"
     ]
    }
   ],
   "source": [
    "y=a3.view()\n",
    "print(y)"
   ]
  },
  {
   "cell_type": "code",
   "execution_count": 59,
   "id": "6021778b-f9f5-4f1c-8972-f96f34aad532",
   "metadata": {},
   "outputs": [
    {
     "name": "stdout",
     "output_type": "stream",
     "text": [
      "[ 1  2  3  4 99 99 99 99 99 99 11 12]\n"
     ]
    }
   ],
   "source": [
    "y[4:10]=99\n",
    "print(y)"
   ]
  },
  {
   "cell_type": "code",
   "execution_count": 60,
   "id": "59e71922-db1a-4aef-ab72-1c44744f4b5d",
   "metadata": {},
   "outputs": [
    {
     "name": "stdout",
     "output_type": "stream",
     "text": [
      "[ 1  2  3  4 99 99 99 99 99 99 11 12]\n"
     ]
    }
   ],
   "source": [
    "print(a3)"
   ]
  },
  {
   "cell_type": "code",
   "execution_count": 61,
   "id": "46199f56-34aa-4b01-9afb-c1b13c415ec6",
   "metadata": {},
   "outputs": [
    {
     "name": "stdout",
     "output_type": "stream",
     "text": [
      "1\n",
      "2\n",
      "3\n",
      "4\n",
      "99\n",
      "99\n",
      "99\n",
      "99\n",
      "99\n",
      "99\n",
      "11\n",
      "12\n"
     ]
    }
   ],
   "source": [
    "'''Iterating array's elements'''\n",
    "for i in a3:\n",
    "    print(i)"
   ]
  },
  {
   "cell_type": "code",
   "execution_count": 62,
   "id": "0daf2ad3-7718-4b70-a0fc-a3d9297c39a2",
   "metadata": {},
   "outputs": [
    {
     "name": "stdout",
     "output_type": "stream",
     "text": [
      "3\n",
      "4\n",
      "5\n",
      "6\n",
      "101\n",
      "101\n",
      "101\n",
      "101\n",
      "101\n",
      "101\n",
      "13\n",
      "14\n"
     ]
    }
   ],
   "source": [
    "for i in a3:\n",
    "    print(i+2)"
   ]
  },
  {
   "cell_type": "code",
   "execution_count": 63,
   "id": "650077f0-8051-4a39-8b0f-75aee0081e10",
   "metadata": {},
   "outputs": [],
   "source": [
    "'''Iteration in 2-D array'''\n",
    "z=a3.reshape(4,3)"
   ]
  },
  {
   "cell_type": "code",
   "execution_count": 64,
   "id": "479b1e79-04f8-4995-8ce2-2eef4a5d14bb",
   "metadata": {},
   "outputs": [
    {
     "name": "stdout",
     "output_type": "stream",
     "text": [
      "[[ 1  2  3]\n",
      " [ 4 99 99]\n",
      " [99 99 99]\n",
      " [99 11 12]]\n"
     ]
    }
   ],
   "source": [
    "print(z)"
   ]
  },
  {
   "cell_type": "code",
   "execution_count": 65,
   "id": "85b9fabb-aa2b-4ebc-b0a4-d0d2c6df79ce",
   "metadata": {},
   "outputs": [
    {
     "name": "stdout",
     "output_type": "stream",
     "text": [
      "[1 2 3]\n",
      "[ 4 99 99]\n",
      "[99 99 99]\n",
      "[99 11 12]\n"
     ]
    }
   ],
   "source": [
    "for i in z:\n",
    "    print(i)"
   ]
  },
  {
   "cell_type": "code",
   "execution_count": 66,
   "id": "126a5252-a8ee-4ec0-a8ea-90c41d8fda03",
   "metadata": {},
   "outputs": [],
   "source": [
    "a=np.array([1,2,3,4,5])\n",
    "b=np.array([6,7,8,9,10])"
   ]
  },
  {
   "cell_type": "code",
   "execution_count": 67,
   "id": "5144871a-691f-4327-aad9-0997068b25df",
   "metadata": {},
   "outputs": [],
   "source": [
    "c=np.concatenate((a,b),axis=0)"
   ]
  },
  {
   "cell_type": "code",
   "execution_count": 68,
   "id": "8474ace5-3112-4f63-abe8-d2b71e59cd5a",
   "metadata": {},
   "outputs": [
    {
     "name": "stdout",
     "output_type": "stream",
     "text": [
      "[ 1  2  3  4  5  6  7  8  9 10]\n"
     ]
    }
   ],
   "source": [
    "print(c)"
   ]
  },
  {
   "cell_type": "code",
   "execution_count": 69,
   "id": "90794e6b-b7ae-445c-b59f-5b9d322c1dc9",
   "metadata": {},
   "outputs": [],
   "source": [
    "#joining 2-d array\n",
    "x=np.array([[1,2,3],[4,5,6]])\n",
    "y=np.array([[7,8,9],[10,11,12]])"
   ]
  },
  {
   "cell_type": "code",
   "execution_count": 70,
   "id": "31a666da-a6d0-4f21-b485-4dbb963ca7c9",
   "metadata": {},
   "outputs": [
    {
     "name": "stdout",
     "output_type": "stream",
     "text": [
      "[[ 1  2  3]\n",
      " [ 4  5  6]\n",
      " [ 7  8  9]\n",
      " [10 11 12]]\n"
     ]
    }
   ],
   "source": [
    "k=np.concatenate((x,y),axis=0)#axis=0 means rows\n",
    "print(k)"
   ]
  },
  {
   "cell_type": "code",
   "execution_count": 71,
   "id": "bd61084c-5bb9-4203-821e-26e3214212c7",
   "metadata": {},
   "outputs": [],
   "source": [
    "w=np.concatenate((x,y),axis=1)"
   ]
  },
  {
   "cell_type": "code",
   "execution_count": 72,
   "id": "90cdfa93-dc3b-4035-b801-18d2bda679a1",
   "metadata": {},
   "outputs": [
    {
     "name": "stdout",
     "output_type": "stream",
     "text": [
      "[[ 1  2  3  7  8  9]\n",
      " [ 4  5  6 10 11 12]]\n"
     ]
    }
   ],
   "source": [
    "print(w)#axis=1 for columns "
   ]
  },
  {
   "cell_type": "code",
   "execution_count": 73,
   "id": "8cf1c969-77a2-4399-adca-934123487863",
   "metadata": {},
   "outputs": [],
   "source": [
    "#sorting an array\n",
    "arr1=np.array([3,4,5,8,1,9,27,15,16,20])"
   ]
  },
  {
   "cell_type": "code",
   "execution_count": 74,
   "id": "358ce179-7c79-4537-ac71-27491bcd622a",
   "metadata": {},
   "outputs": [],
   "source": [
    "arr2=np.sort(arr1)"
   ]
  },
  {
   "cell_type": "code",
   "execution_count": 75,
   "id": "f6245ac1-510a-4fda-9ea9-542bebe3f493",
   "metadata": {},
   "outputs": [
    {
     "name": "stdout",
     "output_type": "stream",
     "text": [
      "[ 1  3  4  5  8  9 15 16 20 27]\n"
     ]
    }
   ],
   "source": [
    "print(arr2)"
   ]
  },
  {
   "cell_type": "code",
   "execution_count": 76,
   "id": "189724b3-5afd-4806-bad2-ec85981be583",
   "metadata": {},
   "outputs": [],
   "source": [
    "#sorting 2-d array"
   ]
  },
  {
   "cell_type": "code",
   "execution_count": 77,
   "id": "052337f9-65fb-49f6-b6bc-1ff270c41839",
   "metadata": {},
   "outputs": [
    {
     "name": "stdout",
     "output_type": "stream",
     "text": [
      "[[ 1  3  4  5  8]\n",
      " [ 9 15 16 20 27]]\n"
     ]
    }
   ],
   "source": [
    "a=arr2.reshape(2,5)\n",
    "print(a)"
   ]
  },
  {
   "cell_type": "code",
   "execution_count": null,
   "id": "7e8b9e46-308a-422d-9000-269e50628eaa",
   "metadata": {},
   "outputs": [],
   "source": []
  }
 ],
 "metadata": {
  "kernelspec": {
   "display_name": "Python 3 (ipykernel)",
   "language": "python",
   "name": "python3"
  },
  "language_info": {
   "codemirror_mode": {
    "name": "ipython",
    "version": 3
   },
   "file_extension": ".py",
   "mimetype": "text/x-python",
   "name": "python",
   "nbconvert_exporter": "python",
   "pygments_lexer": "ipython3",
   "version": "3.11.5"
  }
 },
 "nbformat": 4,
 "nbformat_minor": 5
}
