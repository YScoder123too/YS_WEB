{
 "cells": [
  {
   "cell_type": "markdown",
   "id": "9bac17da-78f4-45f8-89b2-a359c737cca7",
   "metadata": {},
   "source": [
    "# Random Module"
   ]
  },
  {
   "cell_type": "code",
   "execution_count": 8,
   "id": "0d3e946c-c2c2-4022-964a-226dbdf6fb80",
   "metadata": {},
   "outputs": [],
   "source": [
    "#numpy offers a random module to generate a random number"
   ]
  },
  {
   "cell_type": "code",
   "execution_count": 10,
   "id": "2a954bf0-9ad7-4693-beea-be05557da911",
   "metadata": {},
   "outputs": [],
   "source": [
    "import numpy as np\n",
    "from numpy import random"
   ]
  },
  {
   "cell_type": "code",
   "execution_count": 27,
   "id": "221ccd3e-2629-430b-879f-8c8c3ff58e2f",
   "metadata": {},
   "outputs": [
    {
     "name": "stdout",
     "output_type": "stream",
     "text": [
      "16\n"
     ]
    }
   ],
   "source": [
    "x=np.random.randint(100)#0 se 99 tak\n",
    "print(x)"
   ]
  },
  {
   "cell_type": "markdown",
   "id": "c7ff4e79-0e68-4607-a018-7213fe800150",
   "metadata": {},
   "source": [
    "# Generating array of random number"
   ]
  },
  {
   "cell_type": "code",
   "execution_count": 30,
   "id": "d2b71cef-56fa-4188-83e9-b55da8710ec2",
   "metadata": {},
   "outputs": [
    {
     "name": "stdout",
     "output_type": "stream",
     "text": [
      "[48 92 53 52 56]\n"
     ]
    }
   ],
   "source": [
    "a=np.random.randint(100,size=5)\n",
    "print(a) "
   ]
  },
  {
   "cell_type": "code",
   "execution_count": 32,
   "id": "0f5c7496-d504-479b-9aac-55d102df7caf",
   "metadata": {},
   "outputs": [],
   "source": [
    "a.sort()"
   ]
  },
  {
   "cell_type": "code",
   "execution_count": 34,
   "id": "7ba5286a-addd-44d0-b815-449afc4ca0c9",
   "metadata": {},
   "outputs": [
    {
     "name": "stdout",
     "output_type": "stream",
     "text": [
      "[48 52 53 56 92]\n"
     ]
    }
   ],
   "source": [
    "print(a)"
   ]
  },
  {
   "cell_type": "markdown",
   "id": "d1a0f071-c98e-4dcf-8dff-84928592409b",
   "metadata": {},
   "source": [
    "# Generating 2-D array using random"
   ]
  },
  {
   "cell_type": "code",
   "execution_count": 39,
   "id": "2635821c-c13b-4d8e-9881-d1d550cc3ea6",
   "metadata": {},
   "outputs": [
    {
     "name": "stdout",
     "output_type": "stream",
     "text": [
      "[[23 63 44 46]\n",
      " [72 67 65 24]\n",
      " [88  6 26 69]]\n"
     ]
    }
   ],
   "source": [
    "b=np.random.randint(100,size=(3,4))#np likhne ki jarurat nahi hai btw\n",
    "print(b)"
   ]
  },
  {
   "cell_type": "markdown",
   "id": "4a73e484-8aff-43d2-9638-39830716ea37",
   "metadata": {},
   "source": [
    "# Generating random float"
   ]
  },
  {
   "cell_type": "code",
   "execution_count": 44,
   "id": "e0e2864a-aaa9-4d49-be13-64c9ef83112f",
   "metadata": {},
   "outputs": [
    {
     "name": "stdout",
     "output_type": "stream",
     "text": [
      "0.6894584600752981\n"
     ]
    }
   ],
   "source": [
    "c=random.rand()#range jarurat nahi hai\n",
    "print(c)"
   ]
  },
  {
   "cell_type": "code",
   "execution_count": 48,
   "id": "b7236994-69b2-4d71-87c5-d66c3ed1cbc5",
   "metadata": {},
   "outputs": [
    {
     "name": "stdout",
     "output_type": "stream",
     "text": [
      "[0.6320648  0.15666014 0.16817183 0.45371191 0.05573999]\n"
     ]
    }
   ],
   "source": [
    "#generating random float\n",
    "d=random.rand(5)#size = likhne ki jarurat nahi hai\n",
    "print(d)"
   ]
  },
  {
   "cell_type": "code",
   "execution_count": 52,
   "id": "ea95d49f-d20e-4e09-a2cd-11c0d7c58698",
   "metadata": {},
   "outputs": [
    {
     "name": "stdout",
     "output_type": "stream",
     "text": [
      "[[0.9749317  0.70077175 0.21820302 0.91939239]\n",
      " [0.66041271 0.22635519 0.06223035 0.68501362]\n",
      " [0.89616169 0.94184134 0.39070225 0.2934293 ]]\n"
     ]
    }
   ],
   "source": [
    "e=random.rand(3,4)\n",
    "print(e)"
   ]
  },
  {
   "cell_type": "code",
   "execution_count": 54,
   "id": "fac3b177-3377-42ea-b731-7b42759c9b0c",
   "metadata": {},
   "outputs": [
    {
     "name": "stdout",
     "output_type": "stream",
     "text": [
      "[[[0.47265923 0.77291708 0.25156641 0.03413652]\n",
      "  [0.48875724 0.55485206 0.36918233 0.3881773 ]]\n",
      "\n",
      " [[0.16991471 0.03370128 0.74391437 0.80255084]\n",
      "  [0.550839   0.21989271 0.08078448 0.72884674]]]\n"
     ]
    }
   ],
   "source": [
    "f=random.rand(2,2,4)\n",
    "print(f)"
   ]
  },
  {
   "cell_type": "markdown",
   "id": "35d8fdae-b60f-4524-abf5-47765e3434c1",
   "metadata": {},
   "source": [
    "# Selecting a random number from given array"
   ]
  },
  {
   "cell_type": "code",
   "execution_count": 63,
   "id": "2e36fcd4-2020-4818-b2a9-8bef63c81d01",
   "metadata": {},
   "outputs": [
    {
     "name": "stdout",
     "output_type": "stream",
     "text": [
      "7\n"
     ]
    }
   ],
   "source": [
    "rand_num=random.choice([2,3,4,5,7,8])\n",
    "print(rand_num)"
   ]
  },
  {
   "cell_type": "code",
   "execution_count": 69,
   "id": "6ccc9504-045f-43b1-9585-0819464ed7a1",
   "metadata": {},
   "outputs": [
    {
     "name": "stdout",
     "output_type": "stream",
     "text": [
      "Black\n"
     ]
    }
   ],
   "source": [
    "color=['Red','Green','Blue','White','Black','Yellow','Pink','Violet']\n",
    "select_color=random.choice(color)\n",
    "print(select_color)"
   ]
  },
  {
   "cell_type": "code",
   "execution_count": 71,
   "id": "45dd90ba-fe66-4c5f-8e1f-7224046c44c8",
   "metadata": {},
   "outputs": [
    {
     "name": "stdout",
     "output_type": "stream",
     "text": [
      "[[0 5 1]\n",
      " [0 2 0]\n",
      " [1 1 2]\n",
      " [2 2 1]\n",
      " [0 0 0]]\n"
     ]
    }
   ],
   "source": [
    "security_breches=np.array([[0,5,1],[0,2,0],[1,1,2],[2,2,1],[0,0,0]])\n",
    "print(security_breches)"
   ]
  },
  {
   "cell_type": "code",
   "execution_count": 73,
   "id": "6ccef417-73cf-429d-9ac0-4e7af390b306",
   "metadata": {},
   "outputs": [
    {
     "data": {
      "text/plain": [
       "17"
      ]
     },
     "execution_count": 73,
     "metadata": {},
     "output_type": "execute_result"
    }
   ],
   "source": [
    "security_breches.sum()#sabka sum ho jaega"
   ]
  },
  {
   "cell_type": "code",
   "execution_count": 77,
   "id": "42e02709-6e18-4634-ba52-dc285df9a105",
   "metadata": {},
   "outputs": [
    {
     "name": "stdout",
     "output_type": "stream",
     "text": [
      "[6 2 4 5 0]\n"
     ]
    }
   ],
   "source": [
    "print(security_breches.sum(axis=1))#sum of rows"
   ]
  },
  {
   "cell_type": "code",
   "execution_count": 83,
   "id": "7711bd6a-6b57-498b-b38c-fb896d6b2369",
   "metadata": {},
   "outputs": [
    {
     "name": "stdout",
     "output_type": "stream",
     "text": [
      "[ 3 10  4]\n"
     ]
    }
   ],
   "source": [
    "print(security_breches.sum(axis=0))#sum of columns"
   ]
  },
  {
   "cell_type": "code",
   "execution_count": 91,
   "id": "ae9468a9-6b61-4695-bb2c-4ac5d00ae4d4",
   "metadata": {},
   "outputs": [
    {
     "name": "stdout",
     "output_type": "stream",
     "text": [
      "[0 0 1 1 0]\n"
     ]
    }
   ],
   "source": [
    "print(security_breches.min(axis=1))"
   ]
  },
  {
   "cell_type": "code",
   "execution_count": 93,
   "id": "773a8444-8617-4ca7-9514-75bd7be48123",
   "metadata": {},
   "outputs": [
    {
     "name": "stdout",
     "output_type": "stream",
     "text": [
      "[0 0 0]\n"
     ]
    }
   ],
   "source": [
    "print(security_breches.min(axis=0))"
   ]
  },
  {
   "cell_type": "code",
   "execution_count": 99,
   "id": "767c9c0a-d6c7-4d57-af94-665bbdfff07d",
   "metadata": {},
   "outputs": [
    {
     "name": "stdout",
     "output_type": "stream",
     "text": [
      "[0.6 2.  0.8]\n",
      "[2.         0.66666667 1.33333333 1.66666667 0.        ]\n"
     ]
    }
   ],
   "source": [
    "#finding mean\n",
    "print(security_breches.mean(axis=0))\n",
    "print(security_breches.mean(axis=1))"
   ]
  },
  {
   "cell_type": "code",
   "execution_count": 105,
   "id": "5441ceb0-28bf-44b4-935c-05dc0adcbee0",
   "metadata": {},
   "outputs": [
    {
     "name": "stdout",
     "output_type": "stream",
     "text": [
      "[[ 3 10  4]]\n"
     ]
    }
   ],
   "source": [
    "print(security_breches.sum(axis=0,keepdims=True))"
   ]
  },
  {
   "cell_type": "code",
   "execution_count": 107,
   "id": "ab425c38-022d-4ce3-9b74-e836204bb698",
   "metadata": {},
   "outputs": [
    {
     "name": "stdout",
     "output_type": "stream",
     "text": [
      "[[6]\n",
      " [2]\n",
      " [4]\n",
      " [5]\n",
      " [0]]\n"
     ]
    }
   ],
   "source": [
    "print(security_breches.sum(axis=1,keepdims=True))# sum ke time rows ka axis 1 hai"
   ]
  },
  {
   "cell_type": "markdown",
   "id": "a9fdce5a-a000-4ae4-9e45-28cb32c76d42",
   "metadata": {},
   "source": [
    "# Multiplying by a scalar"
   ]
  },
  {
   "cell_type": "code",
   "execution_count": 113,
   "id": "4e1c6940-5391-4c89-9910-fd659a4809b3",
   "metadata": {},
   "outputs": [
    {
     "data": {
      "text/plain": [
       "array([[ 3,  6,  9],\n",
       "       [12, 15, 18]])"
      ]
     },
     "execution_count": 113,
     "metadata": {},
     "output_type": "execute_result"
    }
   ],
   "source": [
    "array=np.array([[1,2,3],[4,5,6]])\n",
    "array*3"
   ]
  },
  {
   "cell_type": "code",
   "execution_count": 115,
   "id": "64bb2946-c323-4ad9-ba85-8b3fb75e8e3f",
   "metadata": {},
   "outputs": [
    {
     "data": {
      "text/plain": [
       "array([[False, False,  True],\n",
       "       [ True,  True,  True]])"
      ]
     },
     "execution_count": 115,
     "metadata": {},
     "output_type": "execute_result"
    }
   ],
   "source": [
    "array=np.array([[1,2,3],[4,5,6]])\n",
    "array>2"
   ]
  },
  {
   "cell_type": "code",
   "execution_count": 120,
   "id": "0a4229ad-bfd3-47d6-8485-78f2eaeba229",
   "metadata": {},
   "outputs": [
    {
     "data": {
      "text/plain": [
       "True"
      ]
     },
     "execution_count": 120,
     "metadata": {},
     "output_type": "execute_result"
    }
   ],
   "source": [
    "array=np.array([\"Numpy\",\"is\",\"awesome\"])\n",
    "len(array)>2"
   ]
  },
  {
   "cell_type": "code",
   "execution_count": 128,
   "id": "15a2bcd3-0f1f-45f3-9206-d3e6a96645c9",
   "metadata": {},
   "outputs": [
    {
     "data": {
      "text/plain": [
       "array([ True, False,  True])"
      ]
     },
     "execution_count": 128,
     "metadata": {},
     "output_type": "execute_result"
    }
   ],
   "source": [
    "vectorized_len=np.vectorize(len)\n",
    "vectorized_len(array)>2"
   ]
  },
  {
   "cell_type": "code",
   "execution_count": null,
   "id": "4b5b4c3c-25ea-4501-a39c-5eaf6f1243d5",
   "metadata": {},
   "outputs": [],
   "source": []
  }
 ],
 "metadata": {
  "kernelspec": {
   "display_name": "Python 3 (ipykernel)",
   "language": "python",
   "name": "python3"
  },
  "language_info": {
   "codemirror_mode": {
    "name": "ipython",
    "version": 3
   },
   "file_extension": ".py",
   "mimetype": "text/x-python",
   "name": "python",
   "nbconvert_exporter": "python",
   "pygments_lexer": "ipython3",
   "version": "3.11.5"
  }
 },
 "nbformat": 4,
 "nbformat_minor": 5
}
